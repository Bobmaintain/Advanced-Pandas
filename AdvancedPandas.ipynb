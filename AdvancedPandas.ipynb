{
 "cells": [
  {
   "cell_type": "markdown",
   "metadata": {},
   "source": [
    "# ADVANCED PANDAS"
   ]
  },
  {
   "cell_type": "code",
   "execution_count": 91,
   "metadata": {},
   "outputs": [],
   "source": [
    "import numpy as np\n",
    "import pandas as pd"
   ]
  },
  {
   "cell_type": "code",
   "execution_count": 3,
   "metadata": {},
   "outputs": [
    {
     "data": {
      "text/plain": [
       "0     apple\n",
       "1    orange\n",
       "2     apple\n",
       "3     apple\n",
       "4     apple\n",
       "5    orange\n",
       "6     apple\n",
       "7     apple\n",
       "dtype: object"
      ]
     },
     "execution_count": 3,
     "metadata": {},
     "output_type": "execute_result"
    }
   ],
   "source": [
    "# Background and Motivation\n",
    "\n",
    "\n",
    "# Frequently, a column in a table may contain repeated instances of a smaller set of distinct values.\n",
    "    # We have already seen functions like unique and value_counts, \n",
    "    # which enable us to extract the distinct values from an array and compute their frequencies, respectively:\n",
    "    \n",
    "import numpy as np; import pandas as pd\n",
    "\n",
    "\n",
    "values = pd.Series(['apple', 'orange', 'apple','apple'] * 2)\n",
    "\n",
    "values"
   ]
  },
  {
   "cell_type": "code",
   "execution_count": 4,
   "metadata": {},
   "outputs": [
    {
     "data": {
      "text/plain": [
       "array(['apple', 'orange'], dtype=object)"
      ]
     },
     "execution_count": 4,
     "metadata": {},
     "output_type": "execute_result"
    }
   ],
   "source": [
    "pd.unique(values)"
   ]
  },
  {
   "cell_type": "code",
   "execution_count": 5,
   "metadata": {},
   "outputs": [
    {
     "data": {
      "text/plain": [
       "apple     6\n",
       "orange    2\n",
       "dtype: int64"
      ]
     },
     "execution_count": 5,
     "metadata": {},
     "output_type": "execute_result"
    }
   ],
   "source": [
    "pd.value_counts(values)"
   ]
  },
  {
   "cell_type": "code",
   "execution_count": 7,
   "metadata": {},
   "outputs": [],
   "source": [
    "# Many data systems (for data warehousing, statistical computing, or other uses) have developed specialized\n",
    "    # approaches for representing data with repeated values for more efficient storage and computation. \n",
    "    # In data warehousing, a best practice is to use socalled dimension tables containing the distinct values \n",
    "    # and storing the primary observations as integer keys referencing the dimension table:\n",
    "\n",
    "values = pd.Series([0, 1, 0, 0] * 2)\n",
    "\n",
    "dim = pd.Series(['apple', 'orange'])"
   ]
  },
  {
   "cell_type": "code",
   "execution_count": 8,
   "metadata": {},
   "outputs": [
    {
     "data": {
      "text/plain": [
       "0    0\n",
       "1    1\n",
       "2    0\n",
       "3    0\n",
       "4    0\n",
       "5    1\n",
       "6    0\n",
       "7    0\n",
       "dtype: int64"
      ]
     },
     "execution_count": 8,
     "metadata": {},
     "output_type": "execute_result"
    }
   ],
   "source": [
    "values"
   ]
  },
  {
   "cell_type": "code",
   "execution_count": 9,
   "metadata": {},
   "outputs": [
    {
     "data": {
      "text/plain": [
       "0     apple\n",
       "1    orange\n",
       "dtype: object"
      ]
     },
     "execution_count": 9,
     "metadata": {},
     "output_type": "execute_result"
    }
   ],
   "source": [
    "dim"
   ]
  },
  {
   "cell_type": "code",
   "execution_count": 11,
   "metadata": {},
   "outputs": [
    {
     "data": {
      "text/plain": [
       "0     apple\n",
       "1    orange\n",
       "0     apple\n",
       "0     apple\n",
       "0     apple\n",
       "1    orange\n",
       "0     apple\n",
       "0     apple\n",
       "dtype: object"
      ]
     },
     "execution_count": 11,
     "metadata": {},
     "output_type": "execute_result"
    }
   ],
   "source": [
    "# We can use the take method to restore the original Series of strings:\n",
    "\n",
    "dim.take(values)"
   ]
  },
  {
   "cell_type": "code",
   "execution_count": null,
   "metadata": {},
   "outputs": [],
   "source": [
    "# This representation as integers is called the categorical or dictionary-encoded representation.\n",
    "    # The array of distinct values can be called the categories, dictionary, or levels of the data. \n",
    "    # The integer values that reference the categories are called the category codes or simply codes.\n",
    "\n",
    "# The categorical representation can yield significant performance improvements when you are doing analytics.\n",
    "    # You can also perform transformations on the categories while leaving the codes unmodified.\n",
    "    # Some example transformations that can be made at relatively low cost are:\n",
    "\n",
    "#    • Renaming categories\n",
    "\n",
    "#    • Appending a new category without changing the order or position of the existing categories"
   ]
  },
  {
   "cell_type": "code",
   "execution_count": 12,
   "metadata": {},
   "outputs": [
    {
     "data": {
      "text/html": [
       "<div>\n",
       "<style scoped>\n",
       "    .dataframe tbody tr th:only-of-type {\n",
       "        vertical-align: middle;\n",
       "    }\n",
       "\n",
       "    .dataframe tbody tr th {\n",
       "        vertical-align: top;\n",
       "    }\n",
       "\n",
       "    .dataframe thead th {\n",
       "        text-align: right;\n",
       "    }\n",
       "</style>\n",
       "<table border=\"1\" class=\"dataframe\">\n",
       "  <thead>\n",
       "    <tr style=\"text-align: right;\">\n",
       "      <th></th>\n",
       "      <th>basket_id</th>\n",
       "      <th>fruit</th>\n",
       "      <th>count</th>\n",
       "      <th>weight</th>\n",
       "    </tr>\n",
       "  </thead>\n",
       "  <tbody>\n",
       "    <tr>\n",
       "      <th>0</th>\n",
       "      <td>0</td>\n",
       "      <td>apple</td>\n",
       "      <td>4</td>\n",
       "      <td>2.188239</td>\n",
       "    </tr>\n",
       "    <tr>\n",
       "      <th>1</th>\n",
       "      <td>1</td>\n",
       "      <td>orange</td>\n",
       "      <td>6</td>\n",
       "      <td>3.023703</td>\n",
       "    </tr>\n",
       "    <tr>\n",
       "      <th>2</th>\n",
       "      <td>2</td>\n",
       "      <td>apple</td>\n",
       "      <td>5</td>\n",
       "      <td>0.357328</td>\n",
       "    </tr>\n",
       "    <tr>\n",
       "      <th>3</th>\n",
       "      <td>3</td>\n",
       "      <td>apple</td>\n",
       "      <td>8</td>\n",
       "      <td>2.489471</td>\n",
       "    </tr>\n",
       "    <tr>\n",
       "      <th>4</th>\n",
       "      <td>4</td>\n",
       "      <td>apple</td>\n",
       "      <td>3</td>\n",
       "      <td>3.331382</td>\n",
       "    </tr>\n",
       "    <tr>\n",
       "      <th>5</th>\n",
       "      <td>5</td>\n",
       "      <td>orange</td>\n",
       "      <td>9</td>\n",
       "      <td>3.562300</td>\n",
       "    </tr>\n",
       "    <tr>\n",
       "      <th>6</th>\n",
       "      <td>6</td>\n",
       "      <td>apple</td>\n",
       "      <td>12</td>\n",
       "      <td>2.087699</td>\n",
       "    </tr>\n",
       "    <tr>\n",
       "      <th>7</th>\n",
       "      <td>7</td>\n",
       "      <td>apple</td>\n",
       "      <td>11</td>\n",
       "      <td>0.365287</td>\n",
       "    </tr>\n",
       "  </tbody>\n",
       "</table>\n",
       "</div>"
      ],
      "text/plain": [
       "   basket_id   fruit  count    weight\n",
       "0          0   apple      4  2.188239\n",
       "1          1  orange      6  3.023703\n",
       "2          2   apple      5  0.357328\n",
       "3          3   apple      8  2.489471\n",
       "4          4   apple      3  3.331382\n",
       "5          5  orange      9  3.562300\n",
       "6          6   apple     12  2.087699\n",
       "7          7   apple     11  0.365287"
      ]
     },
     "execution_count": 12,
     "metadata": {},
     "output_type": "execute_result"
    }
   ],
   "source": [
    "# Categorical Type in pandas\n",
    "\n",
    "# pandas has a special Categorical type for holding data that uses the integer-based \n",
    "    # categorical representation or encoding. \n",
    "\n",
    "# Let’s consider the example Series from before:\n",
    "\n",
    "\n",
    "fruits = ['apple', 'orange', 'apple', 'apple'] * 2\n",
    "\n",
    "N = len(fruits)\n",
    "\n",
    "df = pd.DataFrame({'fruit': fruits, \n",
    "                   'basket_id': np.arange(N), \n",
    "                   'count': np.random.randint(3, 15, size=N), \n",
    "                   'weight': np.random.uniform(0, 4, size=N)}, \n",
    "                  columns=['basket_id', 'fruit', 'count', 'weight'])\n",
    "\n",
    "\n",
    "df"
   ]
  },
  {
   "cell_type": "code",
   "execution_count": 14,
   "metadata": {},
   "outputs": [],
   "source": [
    "df.to_excel('fruitbasket.xlsx')"
   ]
  },
  {
   "cell_type": "code",
   "execution_count": 16,
   "metadata": {},
   "outputs": [
    {
     "data": {
      "text/plain": [
       "0     apple\n",
       "1    orange\n",
       "2     apple\n",
       "3     apple\n",
       "4     apple\n",
       "5    orange\n",
       "6     apple\n",
       "7     apple\n",
       "Name: fruit, dtype: category\n",
       "Categories (2, object): [apple, orange]"
      ]
     },
     "execution_count": 16,
     "metadata": {},
     "output_type": "execute_result"
    }
   ],
   "source": [
    "# Above, df['fruit'] is an array of Python string objects. We can convert it to categorical by calling:\n",
    "\n",
    "fruit_cat = df['fruit'].astype('category')\n",
    "\n",
    "fruit_cat"
   ]
  },
  {
   "cell_type": "code",
   "execution_count": 17,
   "metadata": {},
   "outputs": [
    {
     "data": {
      "text/plain": [
       "pandas.core.arrays.categorical.Categorical"
      ]
     },
     "execution_count": 17,
     "metadata": {},
     "output_type": "execute_result"
    }
   ],
   "source": [
    "# The values for fruit_cat are not a NumPy array, but an instance of pandas.Categorical:\n",
    "\n",
    "c = fruit_cat.values\n",
    "type(c)"
   ]
  },
  {
   "cell_type": "code",
   "execution_count": 18,
   "metadata": {},
   "outputs": [
    {
     "data": {
      "text/plain": [
       "Index(['apple', 'orange'], dtype='object')"
      ]
     },
     "execution_count": 18,
     "metadata": {},
     "output_type": "execute_result"
    }
   ],
   "source": [
    "# The Categorical object has categories and codes attributes:\n",
    "\n",
    "c.categories"
   ]
  },
  {
   "cell_type": "code",
   "execution_count": 19,
   "metadata": {},
   "outputs": [
    {
     "data": {
      "text/plain": [
       "array([0, 1, 0, 0, 0, 1, 0, 0], dtype=int8)"
      ]
     },
     "execution_count": 19,
     "metadata": {},
     "output_type": "execute_result"
    }
   ],
   "source": [
    "c.codes"
   ]
  },
  {
   "cell_type": "code",
   "execution_count": 20,
   "metadata": {},
   "outputs": [
    {
     "data": {
      "text/plain": [
       "0     apple\n",
       "1    orange\n",
       "2     apple\n",
       "3     apple\n",
       "4     apple\n",
       "5    orange\n",
       "6     apple\n",
       "7     apple\n",
       "Name: fruit, dtype: category\n",
       "Categories (2, object): [apple, orange]"
      ]
     },
     "execution_count": 20,
     "metadata": {},
     "output_type": "execute_result"
    }
   ],
   "source": [
    "# You can convert a DataFrame column to categorical by assigning the converted result:\n",
    "\n",
    "df['fruit'] = df['fruit'].astype('category')\n",
    "\n",
    "df.fruit"
   ]
  },
  {
   "cell_type": "code",
   "execution_count": 21,
   "metadata": {},
   "outputs": [
    {
     "data": {
      "text/plain": [
       "[foo, bar, baz, foo, bar]\n",
       "Categories (3, object): [bar, baz, foo]"
      ]
     },
     "execution_count": 21,
     "metadata": {},
     "output_type": "execute_result"
    }
   ],
   "source": [
    "# You can also create pandas.Categorical directly from other types of Python sequences:\n",
    "\n",
    "\n",
    "my_categories = pd.Categorical(['foo', 'bar', 'baz', 'foo', 'bar'])\n",
    "\n",
    "my_categories"
   ]
  },
  {
   "cell_type": "code",
   "execution_count": 22,
   "metadata": {
    "collapsed": true,
    "jupyter": {
     "outputs_hidden": true
    }
   },
   "outputs": [
    {
     "data": {
      "text/plain": [
       "[foo, bar, baz, foo, foo, bar]\n",
       "Categories (3, object): [foo, bar, baz]"
      ]
     },
     "execution_count": 22,
     "metadata": {},
     "output_type": "execute_result"
    }
   ],
   "source": [
    "# If you have obtained categorical encoded data from another source, \n",
    "    # you can use the alternative from_codes constructor:\n",
    "\n",
    "categories = ['foo', 'bar', 'baz']\n",
    "\n",
    "codes = [0, 1, 2, 0, 0, 1]\n",
    "\n",
    "my_cats_2 = pd.Categorical.from_codes(codes, categories)\n",
    "\n",
    "my_cats_2"
   ]
  },
  {
   "cell_type": "code",
   "execution_count": 23,
   "metadata": {},
   "outputs": [
    {
     "data": {
      "text/plain": [
       "[foo, bar, baz, foo, foo, bar]\n",
       "Categories (3, object): [foo < bar < baz]"
      ]
     },
     "execution_count": 23,
     "metadata": {},
     "output_type": "execute_result"
    }
   ],
   "source": [
    "# Unless explicitly specified, categorical conversions assume no specific ordering of the categories.\n",
    "    # So the categories array may be in a different order depending on the ordering of the input data.\n",
    "    # When using from_codes or any of the other constructors, \n",
    "    # you can indicate that the categories have a meaningful ordering:\n",
    "\n",
    "        \n",
    "ordered_cat = pd.Categorical.from_codes(codes, categories, ordered=True)\n",
    "\n",
    "ordered_cat"
   ]
  },
  {
   "cell_type": "code",
   "execution_count": 24,
   "metadata": {},
   "outputs": [
    {
     "data": {
      "text/plain": [
       "[foo, bar, baz, foo, foo, bar]\n",
       "Categories (3, object): [foo < bar < baz]"
      ]
     },
     "execution_count": 24,
     "metadata": {},
     "output_type": "execute_result"
    }
   ],
   "source": [
    "# The above output [foo < bar < baz] indicates that 'foo' precedes 'bar' in the ordering,and so on.\n",
    "    # An unordered categorical instance can be made ordered with as_ordered:\n",
    "\n",
    "\n",
    "my_cats_2.as_ordered()"
   ]
  },
  {
   "cell_type": "code",
   "execution_count": null,
   "metadata": {},
   "outputs": [],
   "source": [
    "# As a last note, categorical data need not be strings, even though I have only showed string examples.\n",
    "# A categorical array can consist of any immutable value types."
   ]
  },
  {
   "cell_type": "code",
   "execution_count": 25,
   "metadata": {},
   "outputs": [
    {
     "data": {
      "text/plain": [
       "array([-0.20470766,  0.47894334, -0.51943872, -0.5557303 ,  1.96578057])"
      ]
     },
     "execution_count": 25,
     "metadata": {},
     "output_type": "execute_result"
    }
   ],
   "source": [
    "# Computations with Categoricals\n",
    "\n",
    "# Using Categorical in pandas compared with the non-encoded version (like an array of strings)\n",
    "    # generally behaves the same way.\n",
    "    # Some parts of pandas, like the groupby function, perform better when working with categoricals.\n",
    "    # There are also some functions that can utilize the ordered flag.\n",
    "    \n",
    "#Let’s consider some random numeric data, and use the pandas.qcut binning function.\n",
    "    # This return pandas.Categorical:\n",
    "    \n",
    "np.random.seed(12345)\n",
    "\n",
    "draws = np.random.randn(1000)\n",
    "\n",
    "draws[:5]"
   ]
  },
  {
   "cell_type": "code",
   "execution_count": 26,
   "metadata": {
    "collapsed": true,
    "jupyter": {
     "outputs_hidden": true
    }
   },
   "outputs": [
    {
     "data": {
      "text/plain": [
       "array([-2.04707659e-01,  4.78943338e-01, -5.19438715e-01, -5.55730304e-01,\n",
       "        1.96578057e+00,  1.39340583e+00,  9.29078767e-02,  2.81746153e-01,\n",
       "        7.69022568e-01,  1.24643474e+00,  1.00718936e+00, -1.29622111e+00,\n",
       "        2.74991633e-01,  2.28912879e-01,  1.35291684e+00,  8.86429341e-01,\n",
       "       -2.00163731e+00, -3.71842537e-01,  1.66902531e+00, -4.38569736e-01,\n",
       "       -5.39741446e-01,  4.76985010e-01,  3.24894392e+00, -1.02122752e+00,\n",
       "       -5.77087303e-01,  1.24121276e-01,  3.02613562e-01,  5.23772068e-01,\n",
       "        9.40277775e-04,  1.34380979e+00, -7.13543985e-01, -8.31153539e-01,\n",
       "       -2.37023165e+00, -1.86076079e+00, -8.60757398e-01,  5.60145293e-01,\n",
       "       -1.26593449e+00,  1.19827125e-01, -1.06351245e+00,  3.32882716e-01,\n",
       "       -2.35941881e+00, -1.99542955e-01, -1.54199553e+00, -9.70735912e-01,\n",
       "       -1.30703025e+00,  2.86349747e-01,  3.77984111e-01, -7.53886535e-01,\n",
       "        3.31285650e-01,  1.34974221e+00,  6.98766888e-02,  2.46674110e-01,\n",
       "       -1.18616011e-02,  1.00481159e+00,  1.32719461e+00, -9.19261558e-01,\n",
       "       -1.54910644e+00,  2.21845987e-02,  7.58363145e-01, -6.60524328e-01,\n",
       "        8.62580083e-01, -1.00319021e-02,  5.00093559e-02,  6.70215594e-01,\n",
       "        8.52965032e-01, -9.55868852e-01, -2.34933207e-02, -2.30423388e+00,\n",
       "       -6.52468841e-01, -1.21830198e+00, -1.33260971e+00,  1.07462269e+00,\n",
       "        7.23641505e-01,  6.90001853e-01,  1.00154344e+00, -5.03087391e-01,\n",
       "       -6.22274225e-01, -9.21168608e-01, -7.26213493e-01,  2.22895546e-01,\n",
       "        5.13161009e-02, -1.15771947e+00,  8.16706936e-01,  4.33609606e-01,\n",
       "        1.01073695e+00,  1.82487521e+00, -9.97518248e-01,  8.50591099e-01,\n",
       "       -1.31577601e-01,  9.12414152e-01,  1.88210680e-01,  2.16946144e+00,\n",
       "       -1.14928205e-01,  2.00369736e+00,  2.96101523e-02,  7.95253156e-01,\n",
       "        1.18109754e-01, -7.48531548e-01,  5.84969738e-01,  1.52676573e-01,\n",
       "       -1.56565729e+00, -5.62540188e-01, -3.26641392e-02, -9.29006202e-01,\n",
       "       -4.82572646e-01, -3.62638461e-02,  1.09539006e+00,  9.80928477e-01,\n",
       "       -5.89487686e-01,  1.58170009e+00, -5.28734826e-01,  4.57001871e-01,\n",
       "        9.29968759e-01, -1.56927061e+00, -1.02248698e+00, -4.02826924e-01,\n",
       "        2.20486863e-01, -1.93401108e-01,  6.69158336e-01, -1.64898482e+00,\n",
       "       -2.25279725e+00, -1.16683222e+00,  3.53607102e-01,  7.02110171e-01,\n",
       "       -2.74569205e-01, -1.39142188e-01,  1.07657222e-01, -6.06545125e-01,\n",
       "       -4.17064408e-01, -1.70070368e-02, -1.22414528e+00, -1.80083991e+00,\n",
       "        1.63473620e+00,  9.89008302e-01,  4.57940143e-01,  5.55154410e-01,\n",
       "        1.30671972e+00, -4.40553570e-01, -3.01350280e-01,  4.98791490e-01,\n",
       "       -8.23991040e-01,  1.32056584e+00,  5.07964786e-01, -6.53437675e-01,\n",
       "        1.86979514e-01, -3.91725249e-01, -2.72292975e-01, -1.71414356e-02,\n",
       "        6.80320749e-01,  6.35512357e-01, -7.57176502e-01,  7.18085834e-01,\n",
       "       -3.04273076e-01, -1.67779025e+00,  4.26986085e-01, -1.56373985e+00,\n",
       "       -3.67487521e-01,  1.04591253e+00,  1.21995436e+00, -2.47699116e-01,\n",
       "       -4.16232132e-01, -1.16747004e-01, -1.84478762e+00,  2.06870785e+00,\n",
       "       -7.76967474e-01,  1.44016687e+00, -1.10557360e-01,  1.22738699e+00,\n",
       "        1.92078426e+00,  7.46433038e-01,  2.22465959e+00, -6.79400410e-01,\n",
       "        7.27368782e-01, -8.68730734e-01, -1.21385091e+00, -4.70630931e-01,\n",
       "       -9.19241697e-01, -8.38826689e-01,  4.35155305e-01, -5.57804717e-01,\n",
       "       -5.67454871e-01, -3.72641553e-01, -9.26556901e-01,  1.75510839e+00,\n",
       "        1.20980999e+00,  1.27002473e+00, -9.74378127e-01, -6.34709255e-01,\n",
       "       -3.95700752e-01, -2.89435900e-01, -7.34297072e-01, -7.28504679e-01,\n",
       "        8.38775073e-01,  2.66893213e-01,  7.21194339e-01,  9.10982642e-01,\n",
       "       -1.02090261e+00, -1.41341604e+00,  1.29660784e+00,  2.52275209e-01,\n",
       "        1.12748110e+00, -5.68363447e-01,  3.09362168e-01, -5.77385473e-01,\n",
       "       -1.16863407e+00, -8.25019972e-01, -2.64440949e+00, -1.52985803e-01,\n",
       "       -7.51921003e-01, -1.32609252e-01,  1.45729970e+00,  6.09511845e-01,\n",
       "       -4.93779257e-01,  1.23997988e+00, -1.35722140e-01,  1.43004181e+00,\n",
       "       -8.46852451e-01,  6.03282130e-01,  1.26357226e+00, -2.55490556e-01,\n",
       "       -4.45688380e-01,  4.68366681e-01, -9.61603924e-01, -1.82450454e+00,\n",
       "        6.25428156e-01,  1.02287238e+00,  1.10742460e+00,  9.09370895e-02,\n",
       "       -3.50108657e-01,  2.17957016e-01, -8.94813130e-01, -1.74149395e+00,\n",
       "       -1.05225574e+00,  1.43660279e+00, -5.76207386e-01, -2.42029443e+00,\n",
       "       -1.06232963e+00,  2.37372262e-01,  9.57369064e-04,  6.52531808e-02,\n",
       "       -1.36752411e+00, -3.02800519e-02,  9.40489321e-01, -6.42436751e-01,\n",
       "        1.04017925e+00, -1.08292226e+00,  4.29213588e-01, -2.36223669e-01,\n",
       "        6.41817816e-01, -3.31660557e-01,  1.39407223e+00, -1.07674194e+00,\n",
       "       -1.92465982e-01, -8.71187651e-01,  4.20851997e-01, -1.21141107e+00,\n",
       "       -2.58866912e-01, -5.81646850e-01, -1.26042063e+00,  4.64574793e-01,\n",
       "       -1.07024091e+00,  8.04222698e-01, -1.56735508e-01,  2.01039001e+00,\n",
       "       -8.87104430e-01, -9.77936232e-01, -2.67217350e-01,  4.83337822e-01,\n",
       "       -4.00332733e-01,  4.49880415e-01,  3.99593953e-01, -1.51574804e-01,\n",
       "       -2.55793406e+00,  1.60806841e-01,  7.65250677e-02, -2.97204166e-01,\n",
       "       -1.29427402e+00, -8.85180013e-01, -1.87496526e-01, -4.93560000e-01,\n",
       "       -1.15412964e-01, -3.50744607e-01,  4.46973764e-02, -8.97756316e-01,\n",
       "        8.90873502e-01, -1.15118516e+00, -2.61230270e+00,  1.14125019e+00,\n",
       "       -8.67135525e-01,  3.83583258e-01, -4.37030164e-01,  3.47488810e-01,\n",
       "       -1.23017904e+00,  5.71078139e-01,  6.00612128e-02, -2.25523994e-01,\n",
       "        1.34972614e+00,  1.35029973e+00, -3.86653322e-01,  8.65989542e-01,\n",
       "        1.74723360e+00, -1.41024614e+00, -3.78241525e-01, -3.45820667e-01,\n",
       "        3.80062465e-01,  1.88994673e-01,  1.32329820e+00, -2.26458859e+00,\n",
       "       -9.14978611e-01, -4.78964164e-01,  1.04718450e+00,  9.23948418e-01,\n",
       "       -1.14150141e-01,  4.05802443e-01,  2.88451808e-01, -4.34788492e-01,\n",
       "        3.58755633e-01, -3.88244944e-01,  2.12874629e+00,  1.40960468e+00,\n",
       "       -1.05434278e-01,  7.00428367e-01,  2.09285188e+00, -1.36971796e-01,\n",
       "       -9.30489423e-01,  3.27497234e-01,  1.30301308e+00, -1.40940236e+00,\n",
       "       -1.44125945e-01, -7.16414024e-01,  1.03614186e-01, -1.49571856e+00,\n",
       "       -1.17489356e+00,  2.61399909e+00, -6.89307399e-01, -7.51652636e-01,\n",
       "        6.36280961e-01, -1.15764416e+00,  6.14679924e-01,  1.02139111e+00,\n",
       "        6.68272492e-01, -8.09535482e-01, -9.08124573e-01,  1.51228939e+00,\n",
       "        9.51174320e-02,  1.18466855e+00,  6.37032934e-01, -5.39274587e-01,\n",
       "       -5.51009929e-02, -1.13592579e+00, -1.70506254e-01, -1.15808727e+00,\n",
       "        1.10459914e+00,  6.34238100e-01,  1.25968335e+00,  9.64930776e-01,\n",
       "       -4.34445938e-01, -8.79602860e-01, -6.94838230e-01,  1.22637405e+00,\n",
       "        4.57278649e-01,  1.15698625e-01,  1.01404235e+00, -1.13500772e+00,\n",
       "       -2.63370582e-01,  1.30642518e+00, -1.61084101e+00, -1.02662069e+00,\n",
       "        1.24157279e+00, -1.56759532e-01, -2.44909553e+00, -1.03394802e+00,\n",
       "        1.59953363e+00,  4.74070770e-01,  1.51325927e-01, -5.42173166e-01,\n",
       "       -4.75496217e-01,  1.06402612e-01, -1.30822819e+00,  2.17318475e+00,\n",
       "        5.64561217e-01, -1.90480765e-01, -9.16934390e-01, -9.75813606e-01,\n",
       "        2.21230269e+00,  7.39306826e-02,  1.81859456e+00, -1.58153100e+00,\n",
       "       -7.74363409e-01,  5.52936493e-01,  1.06061390e-01,  3.92752804e+00,\n",
       "       -2.55125599e-01,  8.54137315e-01, -3.64806532e-01,  1.31101737e-01,\n",
       "       -6.97613896e-01,  1.33564946e+00, -1.51038858e-01,  4.42937851e-01,\n",
       "        9.41571221e-01,  5.33363953e-01,  3.56266193e-01, -1.01153190e-02,\n",
       "        1.41575317e+00,  5.66105533e-01,  4.56487352e-01,  1.94788105e-01,\n",
       "       -6.55053757e-01, -5.65230094e-01,  3.17687312e+00,  9.59532542e-01,\n",
       "       -9.75339835e-01, -1.11674210e+00, -1.10437634e+00, -8.98755175e-01,\n",
       "       -1.36663236e+00,  4.51401732e-01, -1.58722181e+00, -7.32788830e-01,\n",
       "       -5.14562627e-01, -6.11876053e-01, -3.15986670e-02,  2.34127888e-01,\n",
       "        2.71936281e-01,  1.23076935e+00,  1.28830616e+00,  8.51813508e-01,\n",
       "       -1.52918061e+00, -1.55171499e+00,  2.97292917e-01,  3.44791201e-01,\n",
       "       -3.98103360e-01,  4.29404057e-01, -2.85944649e-01, -2.22843700e+00,\n",
       "        6.65587850e-02,  4.89964761e-01,  1.86792585e+00,  2.07043780e+00,\n",
       "       -2.45383227e-01,  7.62302108e-01,  1.29015475e-01,  6.27075914e-01,\n",
       "       -1.06223474e+00, -1.49950345e+00,  5.45154193e-01,  4.00823267e-01,\n",
       "       -1.94623039e+00,  5.05031784e-01, -9.10489138e-01, -2.19696285e-01,\n",
       "        4.08055383e-01, -6.03145411e-01, -3.61132594e-01,  5.64024524e-01,\n",
       "       -1.05661656e+00,  1.39195005e+00, -1.76126767e+00, -9.11633128e-01,\n",
       "        6.58339264e-01, -1.57946584e+00,  4.57705976e-01, -1.83268092e-01,\n",
       "       -6.85483896e-01,  1.06431315e-01, -3.18236084e-01,  4.33712973e-01,\n",
       "        5.71825929e-01,  5.67106029e-01,  8.15769654e-02, -3.02334871e-01,\n",
       "       -7.26916388e-01,  1.80335113e-01, -5.20208734e-01,  3.98092081e-01,\n",
       "       -9.16935074e-01, -8.26501345e-02, -1.93969081e+00,  1.40799436e+00,\n",
       "        1.51240649e+00,  5.26493120e-01, -2.66930833e-01,  8.62284048e-01,\n",
       "        8.38030660e-02, -1.87233890e+00, -9.62791017e-01,  8.00668292e-02,\n",
       "        1.28726442e-01, -4.79120340e-01, -6.40280504e-01,  7.45973801e-01,\n",
       "       -6.22547063e-01,  9.36289315e-01,  7.50018377e-01, -5.67150282e-02,\n",
       "        2.30067451e+00,  5.69497467e-01,  1.48940968e+00,  1.26425028e+00,\n",
       "       -7.61837213e-01, -3.31616898e-01, -1.75131543e+00,  6.28894111e-01,\n",
       "        2.82501864e-01, -1.33813943e+00, -5.00606850e-01,  1.21645030e-01,\n",
       "        1.70832347e+00, -9.70999448e-01, -6.19332343e-01, -7.26708132e-01,\n",
       "        1.22165542e+00,  5.03699288e-01, -1.38787408e+00,  2.04851420e-01,\n",
       "        6.03705216e-01,  5.45680309e-01,  2.35477019e-01,  1.11834994e-01,\n",
       "       -1.25150375e+00, -2.94934350e+00,  6.34634161e-01,  1.24157016e-01,\n",
       "        1.29762249e+00, -1.68693341e+00,  1.08953905e+00,  2.06088174e+00,\n",
       "       -2.41235326e-01, -9.47872180e-01,  6.76294029e-01, -6.53356162e-01,\n",
       "       -6.52295298e-01,  5.28827604e-01,  3.57793249e-01,  1.88649360e-01,\n",
       "        8.69416879e-01, -5.06674481e-02, -7.16364575e-01, -1.03258721e-01,\n",
       "       -1.14103658e+00, -5.00776901e-01, -3.89301370e-01, -4.73850530e-01,\n",
       "        1.28664304e-01,  1.53694305e-01,  4.44790058e-01,  1.28531667e-01,\n",
       "        2.52529866e-01, -9.40638663e-01,  1.00214545e+00, -5.25414984e-01,\n",
       "       -8.87400936e-01,  1.83131360e+00, -9.23029332e-01,  7.00537687e-01,\n",
       "       -8.92151198e-01,  2.30074000e+00, -8.17765299e-01,  5.13759632e-01,\n",
       "        6.23586943e-01,  1.48920593e+00,  1.94047867e+00,  5.43237129e-01,\n",
       "        5.06190912e-01,  1.66201449e+00, -1.18920250e+00,  9.35974490e-02,\n",
       "       -5.39163905e-01, -1.43739560e+00,  1.87937386e-01, -4.50454457e-01,\n",
       "       -5.16878232e-01, -9.56356677e-02,  3.16423805e-01,  6.03334657e-01,\n",
       "       -1.49459146e+00, -1.10894079e-01,  2.41289404e-01, -5.82645109e-01,\n",
       "       -2.41112652e-01,  2.36360537e-01,  1.24720725e-01,  1.04632598e+00,\n",
       "       -2.73091856e-01, -5.34834020e-01, -3.06563305e-01, -1.62242665e-01,\n",
       "       -1.08323220e+00,  7.08401493e-01,  1.52074304e+00,  2.90343183e-01,\n",
       "       -6.83066330e-01, -9.50312866e-01,  4.00709936e-01, -1.26071684e-01,\n",
       "        3.98204888e-01,  1.41638473e-01, -2.64141422e-01, -4.52212074e-01,\n",
       "        7.58201973e-01, -5.15583498e-01, -5.91202322e-01,  8.96745784e-01,\n",
       "       -9.71437524e-01,  1.84080991e+00,  1.53881232e-01, -2.74083943e-01,\n",
       "       -1.78492569e+00,  9.81006686e-01, -8.73717140e-01, -1.01563442e+00,\n",
       "       -4.11243537e-01,  1.46562117e+00, -1.00621906e+00, -9.02147762e-01,\n",
       "        7.52769143e-01, -4.90508527e-01, -5.24672210e-01, -6.99195861e-01,\n",
       "        3.52360939e-01,  6.81025983e-02, -9.30341707e-01,  8.45399560e-01,\n",
       "        1.64723816e-02,  8.44962955e-01,  1.85083395e+00,  2.20742409e-02,\n",
       "       -1.36917902e+00,  8.87203523e-01,  1.43311821e-02, -7.41547051e-02,\n",
       "       -4.85647878e-02,  1.23502145e+00, -4.33294924e-01,  1.39103546e+00,\n",
       "        8.20210741e-01, -2.47423465e-01,  3.02270746e-01,  5.43980361e-01,\n",
       "       -9.42368504e-01, -1.26638281e+00,  9.37249545e-01, -7.20102245e-01,\n",
       "       -1.59395154e+00, -3.75497816e-01, -9.58703834e-01,  7.94336400e-01,\n",
       "       -1.60510784e+00,  5.43710253e-01,  9.25166364e-01, -1.46962860e+00,\n",
       "       -3.99592346e-01,  1.41734264e+00, -8.97608668e-01,  1.84480502e+00,\n",
       "        1.25316821e+00, -1.49093242e+00, -2.77339246e-02,  1.37523596e+00,\n",
       "       -2.52081701e-02, -6.67880179e-01, -2.86801753e+00,  2.10688543e-01,\n",
       "        1.28715531e+00, -5.74305988e-01,  4.95326647e-01,  3.96049590e-01,\n",
       "        5.88798190e-01, -1.28175713e+00,  2.02992261e+00, -5.01944516e-01,\n",
       "       -1.59284566e-01, -1.49621630e+00,  1.14477139e-02,  4.19445985e-01,\n",
       "        2.05121388e+00, -3.68765333e-01, -1.68925468e+00,  1.47681161e-01,\n",
       "       -1.80998392e-01,  1.58059054e-01, -3.96615422e-01, -4.00236630e-01,\n",
       "       -8.24895666e-01, -2.44440446e-01,  1.21945743e+00, -4.33630492e-01,\n",
       "        8.61183873e-01, -3.34503693e-01,  1.59559959e-01, -9.84164476e-01,\n",
       "        7.54084974e-01, -2.84391662e-01,  3.24797530e-01, -8.85424602e-01,\n",
       "       -1.28089348e+00,  1.96109935e-01,  9.54644156e-01, -8.00971332e-01,\n",
       "        1.58514730e-02,  1.08755329e+00, -6.31242820e-01, -2.26893249e-02,\n",
       "        6.85879242e-01,  5.19179208e-01,  1.82701892e-01,  2.04647381e-01,\n",
       "       -2.65986356e-01, -2.27288704e-04,  1.23945232e+00, -8.19715256e-01,\n",
       "       -2.60388907e-01,  5.19140257e-01,  1.43091645e-01, -1.16677747e-01,\n",
       "        1.49674411e+00, -1.48427438e+00, -1.67118276e+00,  9.17173409e-01,\n",
       "       -7.58014151e-01,  2.06479240e+00, -8.50778396e-01,  4.99450713e-01,\n",
       "       -7.92663655e-02, -1.40329264e+00,  1.57894791e+00,  3.69028988e-04,\n",
       "        9.00884914e-01, -4.54869220e-01, -8.64546645e-01,  1.12911990e+00,\n",
       "        5.78744129e-02, -4.33738666e-01,  9.26976374e-02, -1.39782015e+00,\n",
       "        1.45782265e+00, -1.76756916e-01, -2.54240300e-01, -1.26343750e+00,\n",
       "        4.52262741e-01, -8.40117409e-01, -5.02678071e-01,  5.13392587e-01,\n",
       "        1.64165300e+00,  5.80790036e-01, -1.70734027e+00, -1.78355431e-01,\n",
       "       -8.28459954e-01,  1.28631168e+00, -4.06452362e-01,  1.56632047e-01,\n",
       "        5.21066804e-02,  9.55813177e-01,  7.43191501e-01, -4.86323084e-01,\n",
       "        1.92046727e+00, -6.52749023e-01, -1.73303777e-01, -3.60410082e-01,\n",
       "       -3.80413977e-01, -1.29813981e+00,  5.27919008e-01, -9.31002763e-02,\n",
       "        4.01184681e-01, -1.02583380e-01,  3.08690977e-02,  2.61610051e+00,\n",
       "       -7.85577945e-01, -5.06998121e-01, -2.01820572e+00, -6.76853138e-01,\n",
       "        2.66674368e+00,  1.45145615e+00,  6.34628855e-01, -5.02826864e-01,\n",
       "        5.12931659e-01,  1.75677937e+00, -9.74310801e-01,  6.80397048e-01,\n",
       "        9.55798726e-01,  1.50153548e+00, -7.56265648e-01,  4.73504604e-01,\n",
       "        1.71374345e+00, -1.14769922e+00,  2.90322050e-03, -1.10057036e+00,\n",
       "       -2.97531782e-01,  5.02409078e-01, -9.87418981e-04, -6.74560278e-01,\n",
       "        2.97958279e-01,  1.46557314e+00, -3.03628594e-01, -9.94479885e-01,\n",
       "        1.89889991e-01, -1.68402957e+00, -4.58380742e-01,  5.43405908e-01,\n",
       "       -1.18726426e+00, -4.12641693e-01,  1.17712535e+00, -3.13704165e-01,\n",
       "        1.57903162e+00,  3.75388236e-01, -1.56813882e+00, -9.00886519e-01,\n",
       "        6.52345519e-01,  8.71600314e-01,  2.68216170e-01,  9.47681220e-01,\n",
       "        1.47267588e-01, -1.77245546e+00,  5.92419611e-01,  9.03254745e-02,\n",
       "        6.51121454e-01, -8.11946962e-02,  8.01897603e-01,  1.39845227e-01,\n",
       "       -5.01002762e-01, -1.28302559e-01,  4.14605966e-01,  6.04577786e-01,\n",
       "        2.13409475e+00,  9.41187837e-01, -9.31456796e-01, -1.24667539e-01,\n",
       "        2.00696291e-01,  1.80256286e-01, -3.20370097e-01, -1.59612803e+00,\n",
       "       -1.28169898e+00,  1.50258575e+00,  6.53538002e-01, -3.19536626e-01,\n",
       "        9.55094011e-01,  2.61995955e-01,  1.60792901e-01, -5.71680642e-01,\n",
       "        3.51660059e-01,  1.11498006e+00,  1.18326826e+00,  1.06094106e+00,\n",
       "        5.10712630e-01, -9.38783998e-01, -5.46496141e-01,  5.90029971e-01,\n",
       "        1.48218524e+00,  1.02118104e-01,  2.65438049e-01,  3.19307433e-03,\n",
       "       -2.59501150e+00, -1.55556933e+00,  1.10299596e+00,  5.54736504e-01,\n",
       "       -1.28901164e+00,  3.85241648e-01, -1.71729173e+00, -1.01835313e+00,\n",
       "        5.16353173e-02,  5.03298710e-01, -5.43186231e-01, -5.06678417e-01,\n",
       "        7.29652833e-01,  4.34273363e-01, -1.13367361e+00,  1.42395334e+00,\n",
       "        2.66351537e-01, -8.54264393e-01, -5.50596561e-01, -6.19109859e-01,\n",
       "        1.03893339e+00, -9.10610825e-01,  5.29952567e-01, -8.47143615e-03,\n",
       "       -1.12903825e+00,  5.69854191e-01, -8.63391622e-01, -1.35614427e+00,\n",
       "       -5.71515569e-02, -1.08621122e-01,  1.65238409e+00, -1.35092808e+00,\n",
       "       -5.46096737e-01,  9.91400184e-01,  2.20099739e+00,  4.27899791e-01,\n",
       "        2.90468283e-01,  6.11953096e-01, -5.12450984e-01, -7.24230691e-01,\n",
       "        1.69288190e+00, -2.99339120e-01,  1.57172719e+00,  4.61444067e-01,\n",
       "       -6.73829701e-01, -1.14103626e+00, -1.22891798e+00, -1.15928246e+00,\n",
       "       -3.20829018e-01,  1.08834758e+00, -9.06203145e-01, -4.64152062e-01,\n",
       "       -5.13378373e-01,  1.61783768e+00, -8.16650606e-01,  2.44719605e-01,\n",
       "       -1.31109423e+00,  3.88406495e-01,  1.59237371e+00,  8.70399037e-01,\n",
       "        3.35249325e-01,  6.48959907e-01, -1.83151791e-01,  5.00241270e-01,\n",
       "        1.36882639e+00,  8.95091842e-01,  6.47293372e-01, -5.67878708e-01,\n",
       "       -5.79517447e-01, -7.51448573e-01,  1.07551918e+00, -6.21142360e-01,\n",
       "        1.87855572e+00,  1.26023993e+00,  3.10050973e-01,  1.06402292e-01,\n",
       "        2.48012997e-01, -1.39383959e+00, -6.69436307e-01, -5.66791474e-01,\n",
       "       -3.81778903e-01, -9.46546907e-01, -1.06510300e+00, -1.33182618e+00,\n",
       "       -9.86453191e-01, -3.78391147e-01,  7.64711975e-01,  6.03594165e-02,\n",
       "        6.18509999e-01, -4.84921020e-01, -2.80530240e-01,  4.06962904e-01,\n",
       "        1.02518779e+00,  2.54751681e-01,  8.75239905e-02,  7.06983543e-02,\n",
       "       -5.73152603e-01,  1.22892597e+00, -9.62201893e-01,  1.52555676e+00,\n",
       "        8.27282589e-01,  9.12470470e-01, -1.27292343e-01,  6.34316641e-01,\n",
       "       -1.53089843e+00, -1.29070149e+00, -5.26228341e-01, -1.13223396e+00,\n",
       "       -4.99797127e-01, -7.28463087e-01, -5.83144170e-01,  3.29290657e-01,\n",
       "       -8.26860798e-01, -5.36867983e-01, -5.62980134e-01,  9.18404800e-01,\n",
       "       -7.93993782e-02, -2.78624683e-01, -1.30459539e-01, -1.39699761e+00,\n",
       "       -2.44713889e-01,  8.30253911e-01,  2.40821202e-01, -9.15697123e-01,\n",
       "       -2.22527996e+00, -6.63067012e-01, -3.21194764e-01,  4.98388165e-01,\n",
       "        3.80338976e-01, -1.06703532e+00,  2.55452172e-01,  2.11128719e+00,\n",
       "       -6.34189962e-01,  1.36875577e+00, -9.70649489e-01,  6.54245334e-01,\n",
       "       -1.17189522e+00, -3.15987198e-03, -7.45604825e-01,  1.59829089e+00,\n",
       "       -9.13399998e-01,  2.40291209e+00, -5.89360262e-01,  1.07657442e-01,\n",
       "       -1.39297516e-01, -1.15992573e+00,  6.18964782e-01,  1.37389047e+00])"
      ]
     },
     "execution_count": 26,
     "metadata": {},
     "output_type": "execute_result"
    }
   ],
   "source": [
    "draws"
   ]
  },
  {
   "cell_type": "code",
   "execution_count": 27,
   "metadata": {},
   "outputs": [
    {
     "data": {
      "text/plain": [
       "[(-0.684, -0.0101], (-0.0101, 0.63], (-0.684, -0.0101], (-0.684, -0.0101], (0.63, 3.928], ..., (-0.0101, 0.63], (-0.684, -0.0101], (-2.9499999999999997, -0.684], (-0.0101, 0.63], (0.63, 3.928]]\n",
       "Length: 1000\n",
       "Categories (4, interval[float64]): [(-2.9499999999999997, -0.684] < (-0.684, -0.0101] < (-0.0101, 0.63] < (0.63, 3.928]]"
      ]
     },
     "execution_count": 27,
     "metadata": {},
     "output_type": "execute_result"
    }
   ],
   "source": [
    "# Let’s compute a quartile binning of this data and extract some statistics:\n",
    "\n",
    "bins = pd.qcut(draws, 4)\n",
    "\n",
    "bins"
   ]
  },
  {
   "cell_type": "code",
   "execution_count": 29,
   "metadata": {},
   "outputs": [
    {
     "data": {
      "text/plain": [
       "[Q2, Q3, Q2, Q2, Q4, ..., Q3, Q2, Q1, Q3, Q4]\n",
       "Length: 1000\n",
       "Categories (4, object): [Q1 < Q2 < Q3 < Q4]"
      ]
     },
     "execution_count": 29,
     "metadata": {},
     "output_type": "execute_result"
    }
   ],
   "source": [
    "# While useful, the exact sample quartiles may be less useful for producing a report than quartile names.\n",
    "    # We can achieve this with the labels argument to qcut:\n",
    "\n",
    "    \n",
    "bins = pd.qcut(draws, 4, labels=['Q1', 'Q2', 'Q3', 'Q4'])\n",
    "\n",
    "bins"
   ]
  },
  {
   "cell_type": "code",
   "execution_count": 30,
   "metadata": {
    "collapsed": true,
    "jupyter": {
     "outputs_hidden": true
    }
   },
   "outputs": [
    {
     "data": {
      "text/plain": [
       "array([1, 2, 1, 1, 3, 3, 2, 2, 3, 3, 3, 0, 2, 2, 3, 3, 0, 1, 3, 1, 1, 2,\n",
       "       3, 0, 1, 2, 2, 2, 2, 3, 0, 0, 0, 0, 0, 2, 0, 2, 0, 2, 0, 1, 0, 0,\n",
       "       0, 2, 2, 0, 2, 3, 2, 2, 1, 3, 3, 0, 0, 2, 3, 1, 3, 2, 2, 3, 3, 0,\n",
       "       1, 0, 1, 0, 0, 3, 3, 3, 3, 1, 1, 0, 0, 2, 2, 0, 3, 2, 3, 3, 0, 3,\n",
       "       1, 3, 2, 3, 1, 3, 2, 3, 2, 0, 2, 2, 0, 1, 1, 0, 1, 1, 3, 3, 1, 3,\n",
       "       1, 2, 3, 0, 0, 1, 2, 1, 3, 0, 0, 0, 2, 3, 1, 1, 2, 1, 1, 1, 0, 0,\n",
       "       3, 3, 2, 2, 3, 1, 1, 2, 0, 3, 2, 1, 2, 1, 1, 1, 3, 3, 0, 3, 1, 0,\n",
       "       2, 0, 1, 3, 3, 1, 1, 1, 0, 3, 0, 3, 1, 3, 3, 3, 3, 1, 3, 0, 0, 1,\n",
       "       0, 0, 2, 1, 1, 1, 0, 3, 3, 3, 0, 1, 1, 1, 0, 0, 3, 2, 3, 3, 0, 0,\n",
       "       3, 2, 3, 1, 2, 1, 0, 0, 0, 1, 0, 1, 3, 2, 1, 3, 1, 3, 0, 2, 3, 1,\n",
       "       1, 2, 0, 0, 2, 3, 3, 2, 1, 2, 0, 0, 0, 3, 1, 0, 0, 2, 2, 2, 0, 1,\n",
       "       3, 1, 3, 0, 2, 1, 3, 1, 3, 0, 1, 0, 2, 0, 1, 1, 0, 2, 0, 3, 1, 3,\n",
       "       0, 0, 1, 2, 1, 2, 2, 1, 0, 2, 2, 1, 0, 0, 1, 1, 1, 1, 2, 0, 3, 0,\n",
       "       0, 3, 0, 2, 1, 2, 0, 2, 2, 1, 3, 3, 1, 3, 3, 0, 1, 1, 2, 2, 3, 0,\n",
       "       0, 1, 3, 3, 1, 2, 2, 1, 2, 1, 3, 3, 1, 3, 3, 1, 0, 2, 3, 0, 1, 0,\n",
       "       2, 0, 0, 3, 0, 0, 3, 0, 2, 3, 3, 0, 0, 3, 2, 3, 3, 1, 1, 0, 1, 0,\n",
       "       3, 3, 3, 3, 1, 0, 0, 3, 2, 2, 3, 0, 1, 3, 0, 0, 3, 1, 0, 0, 3, 2,\n",
       "       2, 1, 1, 2, 0, 3, 2, 1, 0, 0, 3, 2, 3, 0, 0, 2, 2, 3, 1, 3, 1, 2,\n",
       "       0, 3, 1, 2, 3, 2, 2, 1, 3, 2, 2, 2, 1, 1, 3, 3, 0, 0, 0, 0, 0, 2,\n",
       "       0, 0, 1, 1, 1, 2, 2, 3, 3, 3, 0, 0, 2, 2, 1, 2, 1, 0, 2, 2, 3, 3,\n",
       "       1, 3, 2, 2, 0, 0, 2, 2, 0, 2, 0, 1, 2, 1, 1, 2, 0, 3, 0, 0, 3, 0,\n",
       "       2, 1, 0, 2, 1, 2, 2, 2, 2, 1, 0, 2, 1, 2, 0, 1, 0, 3, 3, 2, 1, 3,\n",
       "       2, 0, 0, 2, 2, 1, 1, 3, 1, 3, 3, 1, 3, 2, 3, 3, 0, 1, 0, 2, 2, 0,\n",
       "       1, 2, 3, 0, 1, 0, 3, 2, 0, 2, 2, 2, 2, 2, 0, 0, 3, 2, 3, 0, 3, 3,\n",
       "       1, 0, 3, 1, 1, 2, 2, 2, 3, 1, 0, 1, 0, 1, 1, 1, 2, 2, 2, 2, 2, 0,\n",
       "       3, 1, 0, 3, 0, 3, 0, 3, 0, 2, 2, 3, 3, 2, 2, 3, 0, 2, 1, 0, 2, 1,\n",
       "       1, 1, 2, 2, 0, 1, 2, 1, 1, 2, 2, 3, 1, 1, 1, 1, 0, 3, 3, 2, 1, 0,\n",
       "       2, 1, 2, 2, 1, 1, 3, 1, 1, 3, 0, 3, 2, 1, 0, 3, 0, 0, 1, 3, 0, 0,\n",
       "       3, 1, 1, 0, 2, 2, 0, 3, 2, 3, 3, 2, 0, 3, 2, 1, 1, 3, 1, 3, 3, 1,\n",
       "       2, 2, 0, 0, 3, 0, 0, 1, 0, 3, 0, 2, 3, 0, 1, 3, 0, 3, 3, 0, 1, 3,\n",
       "       1, 1, 0, 2, 3, 1, 2, 2, 2, 0, 3, 1, 1, 0, 2, 2, 3, 1, 0, 2, 1, 2,\n",
       "       1, 1, 0, 1, 3, 1, 3, 1, 2, 0, 3, 1, 2, 0, 0, 2, 3, 0, 2, 3, 1, 1,\n",
       "       3, 2, 2, 2, 1, 2, 3, 0, 1, 2, 2, 1, 3, 0, 0, 3, 0, 3, 0, 2, 1, 0,\n",
       "       3, 2, 3, 1, 0, 3, 2, 1, 2, 0, 3, 1, 1, 0, 2, 0, 1, 2, 3, 2, 0, 1,\n",
       "       0, 3, 1, 2, 2, 3, 3, 1, 3, 1, 1, 1, 1, 0, 2, 1, 2, 1, 2, 3, 0, 1,\n",
       "       0, 1, 3, 3, 3, 1, 2, 3, 0, 3, 3, 3, 0, 2, 3, 0, 2, 0, 1, 2, 2, 1,\n",
       "       2, 3, 1, 0, 2, 0, 1, 2, 0, 1, 3, 1, 3, 2, 0, 0, 3, 3, 2, 3, 2, 0,\n",
       "       2, 2, 3, 1, 3, 2, 1, 1, 2, 2, 3, 3, 0, 1, 2, 2, 1, 0, 0, 3, 3, 1,\n",
       "       3, 2, 2, 1, 2, 3, 3, 3, 2, 0, 1, 2, 3, 2, 2, 2, 0, 0, 3, 2, 0, 2,\n",
       "       0, 0, 2, 2, 1, 1, 3, 2, 0, 3, 2, 0, 1, 1, 3, 0, 2, 2, 0, 2, 0, 0,\n",
       "       1, 1, 3, 0, 1, 3, 3, 2, 2, 2, 1, 0, 3, 1, 3, 2, 1, 0, 0, 0, 1, 3,\n",
       "       0, 1, 1, 3, 0, 2, 0, 2, 3, 3, 2, 3, 1, 2, 3, 3, 3, 1, 1, 0, 3, 1,\n",
       "       3, 3, 2, 2, 2, 0, 1, 1, 1, 0, 0, 0, 0, 1, 3, 2, 2, 1, 1, 2, 3, 2,\n",
       "       2, 2, 1, 3, 0, 3, 3, 3, 1, 3, 0, 0, 1, 0, 1, 0, 1, 2, 0, 1, 1, 3,\n",
       "       1, 1, 1, 0, 1, 3, 2, 0, 0, 1, 1, 2, 2, 0, 2, 3, 1, 3, 0, 3, 0, 2,\n",
       "       0, 3, 0, 3, 1, 2, 1, 0, 2, 3], dtype=int8)"
      ]
     },
     "execution_count": 30,
     "metadata": {},
     "output_type": "execute_result"
    }
   ],
   "source": [
    "bins.codes"
   ]
  },
  {
   "cell_type": "code",
   "execution_count": 31,
   "metadata": {},
   "outputs": [
    {
     "data": {
      "text/plain": [
       "array([1, 2, 1, 1, 3, 3, 2, 2, 3, 3], dtype=int8)"
      ]
     },
     "execution_count": 31,
     "metadata": {},
     "output_type": "execute_result"
    }
   ],
   "source": [
    "bins.codes[:10]"
   ]
  },
  {
   "cell_type": "code",
   "execution_count": 35,
   "metadata": {},
   "outputs": [
    {
     "data": {
      "text/html": [
       "<div>\n",
       "<style scoped>\n",
       "    .dataframe tbody tr th:only-of-type {\n",
       "        vertical-align: middle;\n",
       "    }\n",
       "\n",
       "    .dataframe tbody tr th {\n",
       "        vertical-align: top;\n",
       "    }\n",
       "\n",
       "    .dataframe thead th {\n",
       "        text-align: right;\n",
       "    }\n",
       "</style>\n",
       "<table border=\"1\" class=\"dataframe\">\n",
       "  <thead>\n",
       "    <tr style=\"text-align: right;\">\n",
       "      <th></th>\n",
       "      <th>quartile</th>\n",
       "      <th>count</th>\n",
       "      <th>min</th>\n",
       "      <th>max</th>\n",
       "    </tr>\n",
       "  </thead>\n",
       "  <tbody>\n",
       "    <tr>\n",
       "      <th>0</th>\n",
       "      <td>Q1</td>\n",
       "      <td>250</td>\n",
       "      <td>-2.949343</td>\n",
       "      <td>-0.685484</td>\n",
       "    </tr>\n",
       "    <tr>\n",
       "      <th>1</th>\n",
       "      <td>Q2</td>\n",
       "      <td>250</td>\n",
       "      <td>-0.683066</td>\n",
       "      <td>-0.010115</td>\n",
       "    </tr>\n",
       "    <tr>\n",
       "      <th>2</th>\n",
       "      <td>Q3</td>\n",
       "      <td>250</td>\n",
       "      <td>-0.010032</td>\n",
       "      <td>0.628894</td>\n",
       "    </tr>\n",
       "    <tr>\n",
       "      <th>3</th>\n",
       "      <td>Q4</td>\n",
       "      <td>250</td>\n",
       "      <td>0.634238</td>\n",
       "      <td>3.927528</td>\n",
       "    </tr>\n",
       "  </tbody>\n",
       "</table>\n",
       "</div>"
      ],
      "text/plain": [
       "  quartile  count       min       max\n",
       "0       Q1    250 -2.949343 -0.685484\n",
       "1       Q2    250 -0.683066 -0.010115\n",
       "2       Q3    250 -0.010032  0.628894\n",
       "3       Q4    250  0.634238  3.927528"
      ]
     },
     "execution_count": 35,
     "metadata": {},
     "output_type": "execute_result"
    }
   ],
   "source": [
    "# The labeled bins categorical does not contain information about the bin edges in the data, \n",
    "    # so we can use groupby to extract some summary statistics:\n",
    "\n",
    "    \n",
    "bins = pd.Series(bins, name='quartile')\n",
    "\n",
    "results = (pd.Series(draws).groupby(bins).agg(['count','min', 'max']).reset_index())\n",
    "\n",
    "results"
   ]
  },
  {
   "cell_type": "code",
   "execution_count": 38,
   "metadata": {},
   "outputs": [
    {
     "data": {
      "text/html": [
       "<div>\n",
       "<style scoped>\n",
       "    .dataframe tbody tr th:only-of-type {\n",
       "        vertical-align: middle;\n",
       "    }\n",
       "\n",
       "    .dataframe tbody tr th {\n",
       "        vertical-align: top;\n",
       "    }\n",
       "\n",
       "    .dataframe thead th {\n",
       "        text-align: right;\n",
       "    }\n",
       "</style>\n",
       "<table border=\"1\" class=\"dataframe\">\n",
       "  <thead>\n",
       "    <tr style=\"text-align: right;\">\n",
       "      <th></th>\n",
       "      <th>quartile</th>\n",
       "      <th>count</th>\n",
       "      <th>std</th>\n",
       "      <th>var</th>\n",
       "      <th>min</th>\n",
       "      <th>max</th>\n",
       "      <th>sum</th>\n",
       "    </tr>\n",
       "  </thead>\n",
       "  <tbody>\n",
       "    <tr>\n",
       "      <th>0</th>\n",
       "      <td>Q1</td>\n",
       "      <td>250</td>\n",
       "      <td>0.450448</td>\n",
       "      <td>0.202903</td>\n",
       "      <td>-2.949343</td>\n",
       "      <td>-0.685484</td>\n",
       "      <td>-303.995226</td>\n",
       "    </tr>\n",
       "    <tr>\n",
       "      <th>1</th>\n",
       "      <td>Q2</td>\n",
       "      <td>250</td>\n",
       "      <td>0.191283</td>\n",
       "      <td>0.036589</td>\n",
       "      <td>-0.683066</td>\n",
       "      <td>-0.010115</td>\n",
       "      <td>-90.605646</td>\n",
       "    </tr>\n",
       "    <tr>\n",
       "      <th>2</th>\n",
       "      <td>Q3</td>\n",
       "      <td>250</td>\n",
       "      <td>0.188923</td>\n",
       "      <td>0.035692</td>\n",
       "      <td>-0.010032</td>\n",
       "      <td>0.628894</td>\n",
       "      <td>76.960037</td>\n",
       "    </tr>\n",
       "    <tr>\n",
       "      <th>3</th>\n",
       "      <td>Q4</td>\n",
       "      <td>250</td>\n",
       "      <td>0.518827</td>\n",
       "      <td>0.269181</td>\n",
       "      <td>0.634238</td>\n",
       "      <td>3.927528</td>\n",
       "      <td>315.290125</td>\n",
       "    </tr>\n",
       "  </tbody>\n",
       "</table>\n",
       "</div>"
      ],
      "text/plain": [
       "  quartile  count       std       var       min       max         sum\n",
       "0       Q1    250  0.450448  0.202903 -2.949343 -0.685484 -303.995226\n",
       "1       Q2    250  0.191283  0.036589 -0.683066 -0.010115  -90.605646\n",
       "2       Q3    250  0.188923  0.035692 -0.010032  0.628894   76.960037\n",
       "3       Q4    250  0.518827  0.269181  0.634238  3.927528  315.290125"
      ]
     },
     "execution_count": 38,
     "metadata": {},
     "output_type": "execute_result"
    }
   ],
   "source": [
    "results2 = (pd.Series(draws).groupby(bins).agg(['count', 'std', 'var','min', 'max', 'sum']).reset_index())\n",
    "\n",
    "results2"
   ]
  },
  {
   "cell_type": "code",
   "execution_count": 39,
   "metadata": {},
   "outputs": [
    {
     "data": {
      "text/plain": [
       "0    Q1\n",
       "1    Q2\n",
       "2    Q3\n",
       "3    Q4\n",
       "Name: quartile, dtype: category\n",
       "Categories (4, object): [Q1 < Q2 < Q3 < Q4]"
      ]
     },
     "execution_count": 39,
     "metadata": {},
     "output_type": "execute_result"
    }
   ],
   "source": [
    "# The 'quartile' column in the result retains the original categorical information, \n",
    "    # including ordering, from bins:\n",
    "\n",
    "\n",
    "results['quartile']"
   ]
  },
  {
   "cell_type": "code",
   "execution_count": 42,
   "metadata": {},
   "outputs": [],
   "source": [
    "# Better performance with categoricals\n",
    "\n",
    "# If you do a lot of analytics on a particular dataset, converting to categorical can yield\n",
    "    # substantial overall performance gains. \n",
    "    # A categorical version of a DataFrame column will often use significantly less memory, too. \n",
    "\n",
    "# Let’s consider some Series with 10 million elements and a small number of distinct categories:\n",
    "\n",
    "\n",
    "N = 10000000\n",
    "\n",
    "draws = pd.Series(np.random.randn(N))\n",
    "\n",
    "labels = pd.Series(['foo', 'bar', 'baz', 'qux'] * (N // 4))"
   ]
  },
  {
   "cell_type": "code",
   "execution_count": 43,
   "metadata": {},
   "outputs": [
    {
     "data": {
      "text/plain": [
       "0         -0.991821\n",
       "1          0.840305\n",
       "2          1.242114\n",
       "3          0.217027\n",
       "4         -0.427622\n",
       "             ...   \n",
       "9999995    0.606146\n",
       "9999996   -1.507969\n",
       "9999997   -0.319387\n",
       "9999998    1.338074\n",
       "9999999    0.739566\n",
       "Length: 10000000, dtype: float64"
      ]
     },
     "execution_count": 43,
     "metadata": {},
     "output_type": "execute_result"
    }
   ],
   "source": [
    "draws"
   ]
  },
  {
   "cell_type": "code",
   "execution_count": 44,
   "metadata": {},
   "outputs": [
    {
     "data": {
      "text/plain": [
       "0          foo\n",
       "1          bar\n",
       "2          baz\n",
       "3          qux\n",
       "4          foo\n",
       "          ... \n",
       "9999995    qux\n",
       "9999996    foo\n",
       "9999997    bar\n",
       "9999998    baz\n",
       "9999999    qux\n",
       "Length: 10000000, dtype: object"
      ]
     },
     "execution_count": 44,
     "metadata": {},
     "output_type": "execute_result"
    }
   ],
   "source": [
    "labels"
   ]
  },
  {
   "cell_type": "code",
   "execution_count": 45,
   "metadata": {},
   "outputs": [],
   "source": [
    "# Now we convert labels to categorical:\n",
    "\n",
    "\n",
    "categories = labels.astype('category')"
   ]
  },
  {
   "cell_type": "code",
   "execution_count": 57,
   "metadata": {},
   "outputs": [
    {
     "data": {
      "text/plain": [
       "80000128"
      ]
     },
     "execution_count": 57,
     "metadata": {},
     "output_type": "execute_result"
    }
   ],
   "source": [
    "# Now we note that labels uses significantly more memory than categories:\n",
    "\n",
    "    \n",
    "labels.memory_usage()"
   ]
  },
  {
   "cell_type": "code",
   "execution_count": 58,
   "metadata": {},
   "outputs": [
    {
     "data": {
      "text/plain": [
       "10000320"
      ]
     },
     "execution_count": 58,
     "metadata": {},
     "output_type": "execute_result"
    }
   ],
   "source": [
    "categories.memory_usage()"
   ]
  },
  {
   "cell_type": "code",
   "execution_count": 59,
   "metadata": {},
   "outputs": [
    {
     "name": "stdout",
     "output_type": "stream",
     "text": [
      "Wall time: 1.19 s\n"
     ]
    }
   ],
   "source": [
    "# The conversion to category is not free, of course, but it is a one-time cost:\n",
    "\n",
    "\n",
    "%time _ = labels.astype('category')"
   ]
  },
  {
   "cell_type": "code",
   "execution_count": null,
   "metadata": {},
   "outputs": [],
   "source": [
    "# GroupBy operations can be significantly faster with categoricals because the underlying\n",
    "    # algorithms use the integer-based codes array instead of an array of strings."
   ]
  },
  {
   "cell_type": "code",
   "execution_count": 60,
   "metadata": {},
   "outputs": [
    {
     "data": {
      "text/plain": [
       "0    a\n",
       "1    b\n",
       "2    c\n",
       "3    d\n",
       "4    a\n",
       "5    b\n",
       "6    c\n",
       "7    d\n",
       "dtype: category\n",
       "Categories (4, object): [a, b, c, d]"
      ]
     },
     "execution_count": 60,
     "metadata": {},
     "output_type": "execute_result"
    }
   ],
   "source": [
    "# Categorical Methods\n",
    "\n",
    "# Series containing categorical data have several special methods similar to the Series.str \n",
    "    # specialized string methods.  This also provides convenient access to the categoriesand codes. \n",
    "\n",
    "# Consider the Series:\n",
    "\n",
    "    \n",
    "s = pd.Series(['a', 'b', 'c', 'd'] * 2)\n",
    "\n",
    "cat_s = s.astype('category')\n",
    "\n",
    "cat_s"
   ]
  },
  {
   "cell_type": "code",
   "execution_count": 61,
   "metadata": {},
   "outputs": [
    {
     "data": {
      "text/plain": [
       "0    0\n",
       "1    1\n",
       "2    2\n",
       "3    3\n",
       "4    0\n",
       "5    1\n",
       "6    2\n",
       "7    3\n",
       "dtype: int8"
      ]
     },
     "execution_count": 61,
     "metadata": {},
     "output_type": "execute_result"
    }
   ],
   "source": [
    "# The special attribute cat provides access to categorical methods:\n",
    "\n",
    "cat_s.cat.codes"
   ]
  },
  {
   "cell_type": "code",
   "execution_count": 62,
   "metadata": {},
   "outputs": [
    {
     "data": {
      "text/plain": [
       "Index(['a', 'b', 'c', 'd'], dtype='object')"
      ]
     },
     "execution_count": 62,
     "metadata": {},
     "output_type": "execute_result"
    }
   ],
   "source": [
    "cat_s.cat.categories"
   ]
  },
  {
   "cell_type": "code",
   "execution_count": 63,
   "metadata": {},
   "outputs": [
    {
     "data": {
      "text/plain": [
       "0    a\n",
       "1    b\n",
       "2    c\n",
       "3    d\n",
       "4    a\n",
       "5    b\n",
       "6    c\n",
       "7    d\n",
       "dtype: category\n",
       "Categories (5, object): [a, b, c, d, e]"
      ]
     },
     "execution_count": 63,
     "metadata": {},
     "output_type": "execute_result"
    }
   ],
   "source": [
    "# Suppose that we know the actual set of categories for this data extends beyond the\n",
    "    # four values observed in the data. We can use the set_categories method to change them:\n",
    "    \n",
    "actual_categories = ['a', 'b', 'c', 'd', 'e']\n",
    "\n",
    "cat_s2 = cat_s.cat.set_categories(actual_categories)\n",
    "\n",
    "cat_s2"
   ]
  },
  {
   "cell_type": "code",
   "execution_count": 64,
   "metadata": {},
   "outputs": [
    {
     "data": {
      "text/plain": [
       "d    2\n",
       "c    2\n",
       "b    2\n",
       "a    2\n",
       "dtype: int64"
      ]
     },
     "execution_count": 64,
     "metadata": {},
     "output_type": "execute_result"
    }
   ],
   "source": [
    "# While it appears that the data is unchanged, \n",
    "    # the new categories will be reflected in operations that use them.\n",
    "    # For example, value_counts respects the categories, if present:\n",
    "\n",
    "cat_s.value_counts()"
   ]
  },
  {
   "cell_type": "code",
   "execution_count": 67,
   "metadata": {},
   "outputs": [
    {
     "data": {
      "text/plain": [
       "d    2\n",
       "c    2\n",
       "b    2\n",
       "a    2\n",
       "e    0\n",
       "dtype: int64"
      ]
     },
     "execution_count": 67,
     "metadata": {},
     "output_type": "execute_result"
    }
   ],
   "source": [
    "cat_s2.value_counts()"
   ]
  },
  {
   "cell_type": "code",
   "execution_count": 68,
   "metadata": {},
   "outputs": [
    {
     "data": {
      "text/plain": [
       "0    a\n",
       "1    b\n",
       "4    a\n",
       "5    b\n",
       "dtype: category\n",
       "Categories (4, object): [a, b, c, d]"
      ]
     },
     "execution_count": 68,
     "metadata": {},
     "output_type": "execute_result"
    }
   ],
   "source": [
    "# In large datasets, categoricals are often used as a convenient tool for memory savings\n",
    "    # and better performance. \n",
    "\n",
    "# After you filter a large DataFrame or Series, many of the categories may not appear in the data.\n",
    "    # To help with this, we can use the remove_unused_categories method to trim unobserved categories:\n",
    "\n",
    "    \n",
    "cat_s3 = cat_s[cat_s.isin(['a', 'b'])]\n",
    "\n",
    "cat_s3"
   ]
  },
  {
   "cell_type": "code",
   "execution_count": 69,
   "metadata": {},
   "outputs": [
    {
     "data": {
      "text/plain": [
       "0    a\n",
       "1    b\n",
       "4    a\n",
       "5    b\n",
       "dtype: category\n",
       "Categories (2, object): [a, b]"
      ]
     },
     "execution_count": 69,
     "metadata": {},
     "output_type": "execute_result"
    }
   ],
   "source": [
    "cat_s3.cat.remove_unused_categories()"
   ]
  },
  {
   "cell_type": "code",
   "execution_count": null,
   "metadata": {},
   "outputs": [],
   "source": [
    "# Categorical methods for Series in pandas\n",
    "\n",
    "\n",
    "  #              Method                        Description\n",
    "    \n",
    "    \n",
    "  #              add_categories                Append new (unused) categories at end of existing categories\n",
    "\n",
    "  #              as_ordered                    Make categories ordered\n",
    "    \n",
    "  #              as_unordered                  Make categories unordered\n",
    "\n",
    "  #              remove_categories             Remove categories, setting any removed values to null\n",
    "    \n",
    "  #              remove_unused_categories      Remove any category values which do not appear in the data\n",
    "\n",
    "  #              rename_categories             Replace categories with indicated set of new category names;\n",
    "  #                                              cannot change the number of categories\n",
    "\n",
    "  #              reorder_categories            Behaves like rename_categories, but can also change \n",
    "  #                                              the result to have ordered categories\n",
    "\n",
    "  #              set_categories                Replace the categories with the indicated set of new categories;\n",
    "  #                                              can add or remove categories"
   ]
  },
  {
   "cell_type": "code",
   "execution_count": 70,
   "metadata": {},
   "outputs": [],
   "source": [
    "# When you’re using statistics or machine learning tools, \n",
    "    # you’ll often transform categorical data into dummy variables, also known as one-hot encoding.\n",
    "    # This involves creating a DataFrame with a column for each distinct category;\n",
    "    # these columns contain 1s for occurrences of a given category and 0 otherwise.\n",
    "    \n",
    "#Consider the previous example:\n",
    "\n",
    "\n",
    "cat_s = pd.Series(['a', 'b', 'c', 'd'] * 2, dtype='category')"
   ]
  },
  {
   "cell_type": "code",
   "execution_count": 72,
   "metadata": {},
   "outputs": [
    {
     "data": {
      "text/html": [
       "<div>\n",
       "<style scoped>\n",
       "    .dataframe tbody tr th:only-of-type {\n",
       "        vertical-align: middle;\n",
       "    }\n",
       "\n",
       "    .dataframe tbody tr th {\n",
       "        vertical-align: top;\n",
       "    }\n",
       "\n",
       "    .dataframe thead th {\n",
       "        text-align: right;\n",
       "    }\n",
       "</style>\n",
       "<table border=\"1\" class=\"dataframe\">\n",
       "  <thead>\n",
       "    <tr style=\"text-align: right;\">\n",
       "      <th></th>\n",
       "      <th>a</th>\n",
       "      <th>b</th>\n",
       "      <th>c</th>\n",
       "      <th>d</th>\n",
       "    </tr>\n",
       "  </thead>\n",
       "  <tbody>\n",
       "    <tr>\n",
       "      <th>0</th>\n",
       "      <td>1</td>\n",
       "      <td>0</td>\n",
       "      <td>0</td>\n",
       "      <td>0</td>\n",
       "    </tr>\n",
       "    <tr>\n",
       "      <th>1</th>\n",
       "      <td>0</td>\n",
       "      <td>1</td>\n",
       "      <td>0</td>\n",
       "      <td>0</td>\n",
       "    </tr>\n",
       "    <tr>\n",
       "      <th>2</th>\n",
       "      <td>0</td>\n",
       "      <td>0</td>\n",
       "      <td>1</td>\n",
       "      <td>0</td>\n",
       "    </tr>\n",
       "    <tr>\n",
       "      <th>3</th>\n",
       "      <td>0</td>\n",
       "      <td>0</td>\n",
       "      <td>0</td>\n",
       "      <td>1</td>\n",
       "    </tr>\n",
       "    <tr>\n",
       "      <th>4</th>\n",
       "      <td>1</td>\n",
       "      <td>0</td>\n",
       "      <td>0</td>\n",
       "      <td>0</td>\n",
       "    </tr>\n",
       "    <tr>\n",
       "      <th>5</th>\n",
       "      <td>0</td>\n",
       "      <td>1</td>\n",
       "      <td>0</td>\n",
       "      <td>0</td>\n",
       "    </tr>\n",
       "    <tr>\n",
       "      <th>6</th>\n",
       "      <td>0</td>\n",
       "      <td>0</td>\n",
       "      <td>1</td>\n",
       "      <td>0</td>\n",
       "    </tr>\n",
       "    <tr>\n",
       "      <th>7</th>\n",
       "      <td>0</td>\n",
       "      <td>0</td>\n",
       "      <td>0</td>\n",
       "      <td>1</td>\n",
       "    </tr>\n",
       "  </tbody>\n",
       "</table>\n",
       "</div>"
      ],
      "text/plain": [
       "   a  b  c  d\n",
       "0  1  0  0  0\n",
       "1  0  1  0  0\n",
       "2  0  0  1  0\n",
       "3  0  0  0  1\n",
       "4  1  0  0  0\n",
       "5  0  1  0  0\n",
       "6  0  0  1  0\n",
       "7  0  0  0  1"
      ]
     },
     "execution_count": 72,
     "metadata": {},
     "output_type": "execute_result"
    }
   ],
   "source": [
    "#The pandas.get_dummies function converts this one-dimensional categorical data into a DataFrame \n",
    "    # containing the dummy variable:\n",
    "    \n",
    "    \n",
    "pd.get_dummies(cat_s)"
   ]
  },
  {
   "cell_type": "code",
   "execution_count": 73,
   "metadata": {},
   "outputs": [
    {
     "data": {
      "text/html": [
       "<div>\n",
       "<style scoped>\n",
       "    .dataframe tbody tr th:only-of-type {\n",
       "        vertical-align: middle;\n",
       "    }\n",
       "\n",
       "    .dataframe tbody tr th {\n",
       "        vertical-align: top;\n",
       "    }\n",
       "\n",
       "    .dataframe thead th {\n",
       "        text-align: right;\n",
       "    }\n",
       "</style>\n",
       "<table border=\"1\" class=\"dataframe\">\n",
       "  <thead>\n",
       "    <tr style=\"text-align: right;\">\n",
       "      <th></th>\n",
       "      <th>key</th>\n",
       "      <th>value</th>\n",
       "    </tr>\n",
       "  </thead>\n",
       "  <tbody>\n",
       "    <tr>\n",
       "      <th>0</th>\n",
       "      <td>a</td>\n",
       "      <td>0.0</td>\n",
       "    </tr>\n",
       "    <tr>\n",
       "      <th>1</th>\n",
       "      <td>b</td>\n",
       "      <td>1.0</td>\n",
       "    </tr>\n",
       "    <tr>\n",
       "      <th>2</th>\n",
       "      <td>c</td>\n",
       "      <td>2.0</td>\n",
       "    </tr>\n",
       "    <tr>\n",
       "      <th>3</th>\n",
       "      <td>a</td>\n",
       "      <td>3.0</td>\n",
       "    </tr>\n",
       "    <tr>\n",
       "      <th>4</th>\n",
       "      <td>b</td>\n",
       "      <td>4.0</td>\n",
       "    </tr>\n",
       "    <tr>\n",
       "      <th>5</th>\n",
       "      <td>c</td>\n",
       "      <td>5.0</td>\n",
       "    </tr>\n",
       "    <tr>\n",
       "      <th>6</th>\n",
       "      <td>a</td>\n",
       "      <td>6.0</td>\n",
       "    </tr>\n",
       "    <tr>\n",
       "      <th>7</th>\n",
       "      <td>b</td>\n",
       "      <td>7.0</td>\n",
       "    </tr>\n",
       "    <tr>\n",
       "      <th>8</th>\n",
       "      <td>c</td>\n",
       "      <td>8.0</td>\n",
       "    </tr>\n",
       "    <tr>\n",
       "      <th>9</th>\n",
       "      <td>a</td>\n",
       "      <td>9.0</td>\n",
       "    </tr>\n",
       "    <tr>\n",
       "      <th>10</th>\n",
       "      <td>b</td>\n",
       "      <td>10.0</td>\n",
       "    </tr>\n",
       "    <tr>\n",
       "      <th>11</th>\n",
       "      <td>c</td>\n",
       "      <td>11.0</td>\n",
       "    </tr>\n",
       "  </tbody>\n",
       "</table>\n",
       "</div>"
      ],
      "text/plain": [
       "   key  value\n",
       "0    a    0.0\n",
       "1    b    1.0\n",
       "2    c    2.0\n",
       "3    a    3.0\n",
       "4    b    4.0\n",
       "5    c    5.0\n",
       "6    a    6.0\n",
       "7    b    7.0\n",
       "8    c    8.0\n",
       "9    a    9.0\n",
       "10   b   10.0\n",
       "11   c   11.0"
      ]
     },
     "execution_count": 73,
     "metadata": {},
     "output_type": "execute_result"
    }
   ],
   "source": [
    "# Advanced GroupBy Use\n",
    "\n",
    "# Group Transforms and “Unwrapped” GroupBys\n",
    "\n",
    "# Apart from the apply method in grouped operations for performing transformations,\n",
    "    # there is another built-in method called transform, which is similar to apply but imposes more constraints\n",
    "    # on the kind of function you can use:\n",
    "\n",
    "#        • It can produce a scalar value to be broadcast to the shape of the group\n",
    "#        • It can produce an object of the same shape as the input group\n",
    "#        • It must not mutate its input\n",
    "\n",
    "\n",
    "# Let’s consider a simple example for illustration:\n",
    "    \n",
    "    \n",
    "df = pd.DataFrame({'key': ['a', 'b', 'c'] * 4, 'value': np.arange(12.)})\n",
    "\n",
    "df"
   ]
  },
  {
   "cell_type": "code",
   "execution_count": 75,
   "metadata": {},
   "outputs": [
    {
     "data": {
      "text/plain": [
       "key\n",
       "a    4.5\n",
       "b    5.5\n",
       "c    6.5\n",
       "Name: value, dtype: float64"
      ]
     },
     "execution_count": 75,
     "metadata": {},
     "output_type": "execute_result"
    }
   ],
   "source": [
    "# Here are the group means by key:\n",
    "\n",
    "    \n",
    "g = df.groupby('key').value\n",
    "\n",
    "g.mean()"
   ]
  },
  {
   "cell_type": "code",
   "execution_count": 76,
   "metadata": {},
   "outputs": [
    {
     "data": {
      "text/plain": [
       "0     4.5\n",
       "1     5.5\n",
       "2     6.5\n",
       "3     4.5\n",
       "4     5.5\n",
       "5     6.5\n",
       "6     4.5\n",
       "7     5.5\n",
       "8     6.5\n",
       "9     4.5\n",
       "10    5.5\n",
       "11    6.5\n",
       "Name: value, dtype: float64"
      ]
     },
     "execution_count": 76,
     "metadata": {},
     "output_type": "execute_result"
    }
   ],
   "source": [
    "# Suppose instead we wanted to produce a Series of the same shape as df['value'] \n",
    "    # but with values replaced by the average grouped by 'key'.\n",
    "    # We can pass the function lambda x: x.mean() to transform:\n",
    "\n",
    "g.transform(lambda x: x.mean())"
   ]
  },
  {
   "cell_type": "code",
   "execution_count": 77,
   "metadata": {},
   "outputs": [
    {
     "data": {
      "text/plain": [
       "0     4.5\n",
       "1     5.5\n",
       "2     6.5\n",
       "3     4.5\n",
       "4     5.5\n",
       "5     6.5\n",
       "6     4.5\n",
       "7     5.5\n",
       "8     6.5\n",
       "9     4.5\n",
       "10    5.5\n",
       "11    6.5\n",
       "Name: value, dtype: float64"
      ]
     },
     "execution_count": 77,
     "metadata": {},
     "output_type": "execute_result"
    }
   ],
   "source": [
    "# For built-in aggregation functions, we can pass a string alias as with the GroupBy agg method:\n",
    "\n",
    "g.transform('mean')"
   ]
  },
  {
   "cell_type": "code",
   "execution_count": 78,
   "metadata": {},
   "outputs": [
    {
     "data": {
      "text/plain": [
       "0      0.0\n",
       "1      2.0\n",
       "2      4.0\n",
       "3      6.0\n",
       "4      8.0\n",
       "5     10.0\n",
       "6     12.0\n",
       "7     14.0\n",
       "8     16.0\n",
       "9     18.0\n",
       "10    20.0\n",
       "11    22.0\n",
       "Name: value, dtype: float64"
      ]
     },
     "execution_count": 78,
     "metadata": {},
     "output_type": "execute_result"
    }
   ],
   "source": [
    "# Like apply, transform works with functions that return Series, \n",
    "    # but the result must be the same size as the input.\n",
    "    # For example, we can multiply each group by 2 using a lambda function:\n",
    "\n",
    "    \n",
    "g.transform(lambda x: x * 2)"
   ]
  },
  {
   "cell_type": "code",
   "execution_count": 79,
   "metadata": {},
   "outputs": [
    {
     "data": {
      "text/plain": [
       "0     4.0\n",
       "1     4.0\n",
       "2     4.0\n",
       "3     3.0\n",
       "4     3.0\n",
       "5     3.0\n",
       "6     2.0\n",
       "7     2.0\n",
       "8     2.0\n",
       "9     1.0\n",
       "10    1.0\n",
       "11    1.0\n",
       "Name: value, dtype: float64"
      ]
     },
     "execution_count": 79,
     "metadata": {},
     "output_type": "execute_result"
    }
   ],
   "source": [
    "# As a more complicated example, we can compute the ranks in descending order for each group:\n",
    "\n",
    "g.transform(lambda x: x.rank(ascending=False))"
   ]
  },
  {
   "cell_type": "code",
   "execution_count": 80,
   "metadata": {},
   "outputs": [],
   "source": [
    "# Consider a group transformation function composed from simple aggregations:\n",
    "\n",
    "    \n",
    "def normalize(x):\n",
    "    return (x - x.mean()) / x.std()"
   ]
  },
  {
   "cell_type": "code",
   "execution_count": 81,
   "metadata": {},
   "outputs": [
    {
     "data": {
      "text/plain": [
       "0    -1.161895\n",
       "1    -1.161895\n",
       "2    -1.161895\n",
       "3    -0.387298\n",
       "4    -0.387298\n",
       "5    -0.387298\n",
       "6     0.387298\n",
       "7     0.387298\n",
       "8     0.387298\n",
       "9     1.161895\n",
       "10    1.161895\n",
       "11    1.161895\n",
       "Name: value, dtype: float64"
      ]
     },
     "execution_count": 81,
     "metadata": {},
     "output_type": "execute_result"
    }
   ],
   "source": [
    "# We can obtain equivalent results in this case either using transform or apply:\n",
    "\n",
    "g.transform(normalize)"
   ]
  },
  {
   "cell_type": "code",
   "execution_count": 82,
   "metadata": {},
   "outputs": [
    {
     "data": {
      "text/plain": [
       "0    -1.161895\n",
       "1    -1.161895\n",
       "2    -1.161895\n",
       "3    -0.387298\n",
       "4    -0.387298\n",
       "5    -0.387298\n",
       "6     0.387298\n",
       "7     0.387298\n",
       "8     0.387298\n",
       "9     1.161895\n",
       "10    1.161895\n",
       "11    1.161895\n",
       "Name: value, dtype: float64"
      ]
     },
     "execution_count": 82,
     "metadata": {},
     "output_type": "execute_result"
    }
   ],
   "source": [
    "g.apply(normalize)"
   ]
  },
  {
   "cell_type": "code",
   "execution_count": 83,
   "metadata": {},
   "outputs": [
    {
     "data": {
      "text/plain": [
       "0     4.5\n",
       "1     5.5\n",
       "2     6.5\n",
       "3     4.5\n",
       "4     5.5\n",
       "5     6.5\n",
       "6     4.5\n",
       "7     5.5\n",
       "8     6.5\n",
       "9     4.5\n",
       "10    5.5\n",
       "11    6.5\n",
       "Name: value, dtype: float64"
      ]
     },
     "execution_count": 83,
     "metadata": {},
     "output_type": "execute_result"
    }
   ],
   "source": [
    "# Built-in aggregate functions like 'mean' or 'sum' are often much faster than a general apply function.\n",
    "    # These also have a “fast past” when used with transform.\n",
    "    # This allows us to perform a so-called unwrapped group operation:\n",
    "    \n",
    "g.transform('mean')"
   ]
  },
  {
   "cell_type": "code",
   "execution_count": 84,
   "metadata": {},
   "outputs": [
    {
     "data": {
      "text/plain": [
       "0    -1.161895\n",
       "1    -1.161895\n",
       "2    -1.161895\n",
       "3    -0.387298\n",
       "4    -0.387298\n",
       "5    -0.387298\n",
       "6     0.387298\n",
       "7     0.387298\n",
       "8     0.387298\n",
       "9     1.161895\n",
       "10    1.161895\n",
       "11    1.161895\n",
       "Name: value, dtype: float64"
      ]
     },
     "execution_count": 84,
     "metadata": {},
     "output_type": "execute_result"
    }
   ],
   "source": [
    "normalized = (df['value'] - g.transform('mean')) / g.transform('std')\n",
    "\n",
    "normalized"
   ]
  },
  {
   "cell_type": "code",
   "execution_count": null,
   "metadata": {},
   "outputs": [],
   "source": [
    "# While an unwrapped group operation may involve multiple group aggregations,\n",
    "    # the overall benefit of vectorized operations often outweighs this."
   ]
  },
  {
   "cell_type": "code",
   "execution_count": 85,
   "metadata": {},
   "outputs": [
    {
     "data": {
      "text/html": [
       "<div>\n",
       "<style scoped>\n",
       "    .dataframe tbody tr th:only-of-type {\n",
       "        vertical-align: middle;\n",
       "    }\n",
       "\n",
       "    .dataframe tbody tr th {\n",
       "        vertical-align: top;\n",
       "    }\n",
       "\n",
       "    .dataframe thead th {\n",
       "        text-align: right;\n",
       "    }\n",
       "</style>\n",
       "<table border=\"1\" class=\"dataframe\">\n",
       "  <thead>\n",
       "    <tr style=\"text-align: right;\">\n",
       "      <th></th>\n",
       "      <th>time</th>\n",
       "      <th>value</th>\n",
       "    </tr>\n",
       "  </thead>\n",
       "  <tbody>\n",
       "    <tr>\n",
       "      <th>0</th>\n",
       "      <td>2017-05-20 00:00:00</td>\n",
       "      <td>0</td>\n",
       "    </tr>\n",
       "    <tr>\n",
       "      <th>1</th>\n",
       "      <td>2017-05-20 00:01:00</td>\n",
       "      <td>1</td>\n",
       "    </tr>\n",
       "    <tr>\n",
       "      <th>2</th>\n",
       "      <td>2017-05-20 00:02:00</td>\n",
       "      <td>2</td>\n",
       "    </tr>\n",
       "    <tr>\n",
       "      <th>3</th>\n",
       "      <td>2017-05-20 00:03:00</td>\n",
       "      <td>3</td>\n",
       "    </tr>\n",
       "    <tr>\n",
       "      <th>4</th>\n",
       "      <td>2017-05-20 00:04:00</td>\n",
       "      <td>4</td>\n",
       "    </tr>\n",
       "    <tr>\n",
       "      <th>5</th>\n",
       "      <td>2017-05-20 00:05:00</td>\n",
       "      <td>5</td>\n",
       "    </tr>\n",
       "    <tr>\n",
       "      <th>6</th>\n",
       "      <td>2017-05-20 00:06:00</td>\n",
       "      <td>6</td>\n",
       "    </tr>\n",
       "    <tr>\n",
       "      <th>7</th>\n",
       "      <td>2017-05-20 00:07:00</td>\n",
       "      <td>7</td>\n",
       "    </tr>\n",
       "    <tr>\n",
       "      <th>8</th>\n",
       "      <td>2017-05-20 00:08:00</td>\n",
       "      <td>8</td>\n",
       "    </tr>\n",
       "    <tr>\n",
       "      <th>9</th>\n",
       "      <td>2017-05-20 00:09:00</td>\n",
       "      <td>9</td>\n",
       "    </tr>\n",
       "    <tr>\n",
       "      <th>10</th>\n",
       "      <td>2017-05-20 00:10:00</td>\n",
       "      <td>10</td>\n",
       "    </tr>\n",
       "    <tr>\n",
       "      <th>11</th>\n",
       "      <td>2017-05-20 00:11:00</td>\n",
       "      <td>11</td>\n",
       "    </tr>\n",
       "    <tr>\n",
       "      <th>12</th>\n",
       "      <td>2017-05-20 00:12:00</td>\n",
       "      <td>12</td>\n",
       "    </tr>\n",
       "    <tr>\n",
       "      <th>13</th>\n",
       "      <td>2017-05-20 00:13:00</td>\n",
       "      <td>13</td>\n",
       "    </tr>\n",
       "    <tr>\n",
       "      <th>14</th>\n",
       "      <td>2017-05-20 00:14:00</td>\n",
       "      <td>14</td>\n",
       "    </tr>\n",
       "  </tbody>\n",
       "</table>\n",
       "</div>"
      ],
      "text/plain": [
       "                  time  value\n",
       "0  2017-05-20 00:00:00      0\n",
       "1  2017-05-20 00:01:00      1\n",
       "2  2017-05-20 00:02:00      2\n",
       "3  2017-05-20 00:03:00      3\n",
       "4  2017-05-20 00:04:00      4\n",
       "5  2017-05-20 00:05:00      5\n",
       "6  2017-05-20 00:06:00      6\n",
       "7  2017-05-20 00:07:00      7\n",
       "8  2017-05-20 00:08:00      8\n",
       "9  2017-05-20 00:09:00      9\n",
       "10 2017-05-20 00:10:00     10\n",
       "11 2017-05-20 00:11:00     11\n",
       "12 2017-05-20 00:12:00     12\n",
       "13 2017-05-20 00:13:00     13\n",
       "14 2017-05-20 00:14:00     14"
      ]
     },
     "execution_count": 85,
     "metadata": {},
     "output_type": "execute_result"
    }
   ],
   "source": [
    "# Grouped Time Resampling\n",
    "\n",
    "# For time series data, the resample method is semantically a group operation based on a time intervalization.\n",
    "\n",
    "# Here’s a small example table:\n",
    "\n",
    "\n",
    "N = 15\n",
    "\n",
    "times = pd.date_range('2017-05-20 00:00', freq='1min', periods=N)\n",
    "\n",
    "df = pd.DataFrame({'time': times, 'value': np.arange(N)})\n",
    "\n",
    "df"
   ]
  },
  {
   "cell_type": "code",
   "execution_count": 86,
   "metadata": {},
   "outputs": [
    {
     "data": {
      "text/html": [
       "<div>\n",
       "<style scoped>\n",
       "    .dataframe tbody tr th:only-of-type {\n",
       "        vertical-align: middle;\n",
       "    }\n",
       "\n",
       "    .dataframe tbody tr th {\n",
       "        vertical-align: top;\n",
       "    }\n",
       "\n",
       "    .dataframe thead th {\n",
       "        text-align: right;\n",
       "    }\n",
       "</style>\n",
       "<table border=\"1\" class=\"dataframe\">\n",
       "  <thead>\n",
       "    <tr style=\"text-align: right;\">\n",
       "      <th></th>\n",
       "      <th>value</th>\n",
       "    </tr>\n",
       "    <tr>\n",
       "      <th>time</th>\n",
       "      <th></th>\n",
       "    </tr>\n",
       "  </thead>\n",
       "  <tbody>\n",
       "    <tr>\n",
       "      <th>2017-05-20 00:00:00</th>\n",
       "      <td>5</td>\n",
       "    </tr>\n",
       "    <tr>\n",
       "      <th>2017-05-20 00:05:00</th>\n",
       "      <td>5</td>\n",
       "    </tr>\n",
       "    <tr>\n",
       "      <th>2017-05-20 00:10:00</th>\n",
       "      <td>5</td>\n",
       "    </tr>\n",
       "  </tbody>\n",
       "</table>\n",
       "</div>"
      ],
      "text/plain": [
       "                     value\n",
       "time                      \n",
       "2017-05-20 00:00:00      5\n",
       "2017-05-20 00:05:00      5\n",
       "2017-05-20 00:10:00      5"
      ]
     },
     "execution_count": 86,
     "metadata": {},
     "output_type": "execute_result"
    }
   ],
   "source": [
    "# Here, we can index by 'time' and then resample:\n",
    "\n",
    "df.set_index('time').resample('5min').count()"
   ]
  },
  {
   "cell_type": "code",
   "execution_count": 87,
   "metadata": {},
   "outputs": [
    {
     "data": {
      "text/html": [
       "<div>\n",
       "<style scoped>\n",
       "    .dataframe tbody tr th:only-of-type {\n",
       "        vertical-align: middle;\n",
       "    }\n",
       "\n",
       "    .dataframe tbody tr th {\n",
       "        vertical-align: top;\n",
       "    }\n",
       "\n",
       "    .dataframe thead th {\n",
       "        text-align: right;\n",
       "    }\n",
       "</style>\n",
       "<table border=\"1\" class=\"dataframe\">\n",
       "  <thead>\n",
       "    <tr style=\"text-align: right;\">\n",
       "      <th></th>\n",
       "      <th>value</th>\n",
       "    </tr>\n",
       "    <tr>\n",
       "      <th>time</th>\n",
       "      <th></th>\n",
       "    </tr>\n",
       "  </thead>\n",
       "  <tbody>\n",
       "    <tr>\n",
       "      <th>2017-05-20 00:00:00</th>\n",
       "      <td>2</td>\n",
       "    </tr>\n",
       "    <tr>\n",
       "      <th>2017-05-20 00:02:00</th>\n",
       "      <td>2</td>\n",
       "    </tr>\n",
       "    <tr>\n",
       "      <th>2017-05-20 00:04:00</th>\n",
       "      <td>2</td>\n",
       "    </tr>\n",
       "    <tr>\n",
       "      <th>2017-05-20 00:06:00</th>\n",
       "      <td>2</td>\n",
       "    </tr>\n",
       "    <tr>\n",
       "      <th>2017-05-20 00:08:00</th>\n",
       "      <td>2</td>\n",
       "    </tr>\n",
       "    <tr>\n",
       "      <th>2017-05-20 00:10:00</th>\n",
       "      <td>2</td>\n",
       "    </tr>\n",
       "    <tr>\n",
       "      <th>2017-05-20 00:12:00</th>\n",
       "      <td>2</td>\n",
       "    </tr>\n",
       "    <tr>\n",
       "      <th>2017-05-20 00:14:00</th>\n",
       "      <td>1</td>\n",
       "    </tr>\n",
       "  </tbody>\n",
       "</table>\n",
       "</div>"
      ],
      "text/plain": [
       "                     value\n",
       "time                      \n",
       "2017-05-20 00:00:00      2\n",
       "2017-05-20 00:02:00      2\n",
       "2017-05-20 00:04:00      2\n",
       "2017-05-20 00:06:00      2\n",
       "2017-05-20 00:08:00      2\n",
       "2017-05-20 00:10:00      2\n",
       "2017-05-20 00:12:00      2\n",
       "2017-05-20 00:14:00      1"
      ]
     },
     "execution_count": 87,
     "metadata": {},
     "output_type": "execute_result"
    }
   ],
   "source": [
    "df.set_index('time').resample('2min').count()"
   ]
  },
  {
   "cell_type": "code",
   "execution_count": 88,
   "metadata": {},
   "outputs": [
    {
     "data": {
      "text/html": [
       "<div>\n",
       "<style scoped>\n",
       "    .dataframe tbody tr th:only-of-type {\n",
       "        vertical-align: middle;\n",
       "    }\n",
       "\n",
       "    .dataframe tbody tr th {\n",
       "        vertical-align: top;\n",
       "    }\n",
       "\n",
       "    .dataframe thead th {\n",
       "        text-align: right;\n",
       "    }\n",
       "</style>\n",
       "<table border=\"1\" class=\"dataframe\">\n",
       "  <thead>\n",
       "    <tr style=\"text-align: right;\">\n",
       "      <th></th>\n",
       "      <th>time</th>\n",
       "      <th>key</th>\n",
       "      <th>value</th>\n",
       "    </tr>\n",
       "  </thead>\n",
       "  <tbody>\n",
       "    <tr>\n",
       "      <th>0</th>\n",
       "      <td>2017-05-20 00:00:00</td>\n",
       "      <td>a</td>\n",
       "      <td>0.0</td>\n",
       "    </tr>\n",
       "    <tr>\n",
       "      <th>1</th>\n",
       "      <td>2017-05-20 00:00:00</td>\n",
       "      <td>b</td>\n",
       "      <td>1.0</td>\n",
       "    </tr>\n",
       "    <tr>\n",
       "      <th>2</th>\n",
       "      <td>2017-05-20 00:00:00</td>\n",
       "      <td>c</td>\n",
       "      <td>2.0</td>\n",
       "    </tr>\n",
       "    <tr>\n",
       "      <th>3</th>\n",
       "      <td>2017-05-20 00:01:00</td>\n",
       "      <td>a</td>\n",
       "      <td>3.0</td>\n",
       "    </tr>\n",
       "    <tr>\n",
       "      <th>4</th>\n",
       "      <td>2017-05-20 00:01:00</td>\n",
       "      <td>b</td>\n",
       "      <td>4.0</td>\n",
       "    </tr>\n",
       "    <tr>\n",
       "      <th>5</th>\n",
       "      <td>2017-05-20 00:01:00</td>\n",
       "      <td>c</td>\n",
       "      <td>5.0</td>\n",
       "    </tr>\n",
       "    <tr>\n",
       "      <th>6</th>\n",
       "      <td>2017-05-20 00:02:00</td>\n",
       "      <td>a</td>\n",
       "      <td>6.0</td>\n",
       "    </tr>\n",
       "  </tbody>\n",
       "</table>\n",
       "</div>"
      ],
      "text/plain": [
       "                 time key  value\n",
       "0 2017-05-20 00:00:00   a    0.0\n",
       "1 2017-05-20 00:00:00   b    1.0\n",
       "2 2017-05-20 00:00:00   c    2.0\n",
       "3 2017-05-20 00:01:00   a    3.0\n",
       "4 2017-05-20 00:01:00   b    4.0\n",
       "5 2017-05-20 00:01:00   c    5.0\n",
       "6 2017-05-20 00:02:00   a    6.0"
      ]
     },
     "execution_count": 88,
     "metadata": {},
     "output_type": "execute_result"
    }
   ],
   "source": [
    "#Suppose that a DataFrame contains multiple time series, marked by an additional group key column:\n",
    "\n",
    "df2 = pd.DataFrame({'time': times.repeat(3), 'key': np.tile(['a', 'b', 'c'], N), 'value': np.arange(N * 3.)})\n",
    "\n",
    "\n",
    "df2[:7]"
   ]
  },
  {
   "cell_type": "code",
   "execution_count": 89,
   "metadata": {
    "collapsed": true,
    "jupyter": {
     "outputs_hidden": true
    }
   },
   "outputs": [
    {
     "data": {
      "text/html": [
       "<div>\n",
       "<style scoped>\n",
       "    .dataframe tbody tr th:only-of-type {\n",
       "        vertical-align: middle;\n",
       "    }\n",
       "\n",
       "    .dataframe tbody tr th {\n",
       "        vertical-align: top;\n",
       "    }\n",
       "\n",
       "    .dataframe thead th {\n",
       "        text-align: right;\n",
       "    }\n",
       "</style>\n",
       "<table border=\"1\" class=\"dataframe\">\n",
       "  <thead>\n",
       "    <tr style=\"text-align: right;\">\n",
       "      <th></th>\n",
       "      <th>time</th>\n",
       "      <th>key</th>\n",
       "      <th>value</th>\n",
       "    </tr>\n",
       "  </thead>\n",
       "  <tbody>\n",
       "    <tr>\n",
       "      <th>0</th>\n",
       "      <td>2017-05-20 00:00:00</td>\n",
       "      <td>a</td>\n",
       "      <td>0.0</td>\n",
       "    </tr>\n",
       "    <tr>\n",
       "      <th>1</th>\n",
       "      <td>2017-05-20 00:00:00</td>\n",
       "      <td>b</td>\n",
       "      <td>1.0</td>\n",
       "    </tr>\n",
       "    <tr>\n",
       "      <th>2</th>\n",
       "      <td>2017-05-20 00:00:00</td>\n",
       "      <td>c</td>\n",
       "      <td>2.0</td>\n",
       "    </tr>\n",
       "    <tr>\n",
       "      <th>3</th>\n",
       "      <td>2017-05-20 00:01:00</td>\n",
       "      <td>a</td>\n",
       "      <td>3.0</td>\n",
       "    </tr>\n",
       "    <tr>\n",
       "      <th>4</th>\n",
       "      <td>2017-05-20 00:01:00</td>\n",
       "      <td>b</td>\n",
       "      <td>4.0</td>\n",
       "    </tr>\n",
       "    <tr>\n",
       "      <th>5</th>\n",
       "      <td>2017-05-20 00:01:00</td>\n",
       "      <td>c</td>\n",
       "      <td>5.0</td>\n",
       "    </tr>\n",
       "    <tr>\n",
       "      <th>6</th>\n",
       "      <td>2017-05-20 00:02:00</td>\n",
       "      <td>a</td>\n",
       "      <td>6.0</td>\n",
       "    </tr>\n",
       "    <tr>\n",
       "      <th>7</th>\n",
       "      <td>2017-05-20 00:02:00</td>\n",
       "      <td>b</td>\n",
       "      <td>7.0</td>\n",
       "    </tr>\n",
       "    <tr>\n",
       "      <th>8</th>\n",
       "      <td>2017-05-20 00:02:00</td>\n",
       "      <td>c</td>\n",
       "      <td>8.0</td>\n",
       "    </tr>\n",
       "    <tr>\n",
       "      <th>9</th>\n",
       "      <td>2017-05-20 00:03:00</td>\n",
       "      <td>a</td>\n",
       "      <td>9.0</td>\n",
       "    </tr>\n",
       "    <tr>\n",
       "      <th>10</th>\n",
       "      <td>2017-05-20 00:03:00</td>\n",
       "      <td>b</td>\n",
       "      <td>10.0</td>\n",
       "    </tr>\n",
       "    <tr>\n",
       "      <th>11</th>\n",
       "      <td>2017-05-20 00:03:00</td>\n",
       "      <td>c</td>\n",
       "      <td>11.0</td>\n",
       "    </tr>\n",
       "    <tr>\n",
       "      <th>12</th>\n",
       "      <td>2017-05-20 00:04:00</td>\n",
       "      <td>a</td>\n",
       "      <td>12.0</td>\n",
       "    </tr>\n",
       "    <tr>\n",
       "      <th>13</th>\n",
       "      <td>2017-05-20 00:04:00</td>\n",
       "      <td>b</td>\n",
       "      <td>13.0</td>\n",
       "    </tr>\n",
       "    <tr>\n",
       "      <th>14</th>\n",
       "      <td>2017-05-20 00:04:00</td>\n",
       "      <td>c</td>\n",
       "      <td>14.0</td>\n",
       "    </tr>\n",
       "    <tr>\n",
       "      <th>15</th>\n",
       "      <td>2017-05-20 00:05:00</td>\n",
       "      <td>a</td>\n",
       "      <td>15.0</td>\n",
       "    </tr>\n",
       "    <tr>\n",
       "      <th>16</th>\n",
       "      <td>2017-05-20 00:05:00</td>\n",
       "      <td>b</td>\n",
       "      <td>16.0</td>\n",
       "    </tr>\n",
       "    <tr>\n",
       "      <th>17</th>\n",
       "      <td>2017-05-20 00:05:00</td>\n",
       "      <td>c</td>\n",
       "      <td>17.0</td>\n",
       "    </tr>\n",
       "    <tr>\n",
       "      <th>18</th>\n",
       "      <td>2017-05-20 00:06:00</td>\n",
       "      <td>a</td>\n",
       "      <td>18.0</td>\n",
       "    </tr>\n",
       "    <tr>\n",
       "      <th>19</th>\n",
       "      <td>2017-05-20 00:06:00</td>\n",
       "      <td>b</td>\n",
       "      <td>19.0</td>\n",
       "    </tr>\n",
       "    <tr>\n",
       "      <th>20</th>\n",
       "      <td>2017-05-20 00:06:00</td>\n",
       "      <td>c</td>\n",
       "      <td>20.0</td>\n",
       "    </tr>\n",
       "    <tr>\n",
       "      <th>21</th>\n",
       "      <td>2017-05-20 00:07:00</td>\n",
       "      <td>a</td>\n",
       "      <td>21.0</td>\n",
       "    </tr>\n",
       "    <tr>\n",
       "      <th>22</th>\n",
       "      <td>2017-05-20 00:07:00</td>\n",
       "      <td>b</td>\n",
       "      <td>22.0</td>\n",
       "    </tr>\n",
       "    <tr>\n",
       "      <th>23</th>\n",
       "      <td>2017-05-20 00:07:00</td>\n",
       "      <td>c</td>\n",
       "      <td>23.0</td>\n",
       "    </tr>\n",
       "    <tr>\n",
       "      <th>24</th>\n",
       "      <td>2017-05-20 00:08:00</td>\n",
       "      <td>a</td>\n",
       "      <td>24.0</td>\n",
       "    </tr>\n",
       "    <tr>\n",
       "      <th>25</th>\n",
       "      <td>2017-05-20 00:08:00</td>\n",
       "      <td>b</td>\n",
       "      <td>25.0</td>\n",
       "    </tr>\n",
       "    <tr>\n",
       "      <th>26</th>\n",
       "      <td>2017-05-20 00:08:00</td>\n",
       "      <td>c</td>\n",
       "      <td>26.0</td>\n",
       "    </tr>\n",
       "    <tr>\n",
       "      <th>27</th>\n",
       "      <td>2017-05-20 00:09:00</td>\n",
       "      <td>a</td>\n",
       "      <td>27.0</td>\n",
       "    </tr>\n",
       "    <tr>\n",
       "      <th>28</th>\n",
       "      <td>2017-05-20 00:09:00</td>\n",
       "      <td>b</td>\n",
       "      <td>28.0</td>\n",
       "    </tr>\n",
       "    <tr>\n",
       "      <th>29</th>\n",
       "      <td>2017-05-20 00:09:00</td>\n",
       "      <td>c</td>\n",
       "      <td>29.0</td>\n",
       "    </tr>\n",
       "    <tr>\n",
       "      <th>30</th>\n",
       "      <td>2017-05-20 00:10:00</td>\n",
       "      <td>a</td>\n",
       "      <td>30.0</td>\n",
       "    </tr>\n",
       "    <tr>\n",
       "      <th>31</th>\n",
       "      <td>2017-05-20 00:10:00</td>\n",
       "      <td>b</td>\n",
       "      <td>31.0</td>\n",
       "    </tr>\n",
       "    <tr>\n",
       "      <th>32</th>\n",
       "      <td>2017-05-20 00:10:00</td>\n",
       "      <td>c</td>\n",
       "      <td>32.0</td>\n",
       "    </tr>\n",
       "    <tr>\n",
       "      <th>33</th>\n",
       "      <td>2017-05-20 00:11:00</td>\n",
       "      <td>a</td>\n",
       "      <td>33.0</td>\n",
       "    </tr>\n",
       "    <tr>\n",
       "      <th>34</th>\n",
       "      <td>2017-05-20 00:11:00</td>\n",
       "      <td>b</td>\n",
       "      <td>34.0</td>\n",
       "    </tr>\n",
       "    <tr>\n",
       "      <th>35</th>\n",
       "      <td>2017-05-20 00:11:00</td>\n",
       "      <td>c</td>\n",
       "      <td>35.0</td>\n",
       "    </tr>\n",
       "    <tr>\n",
       "      <th>36</th>\n",
       "      <td>2017-05-20 00:12:00</td>\n",
       "      <td>a</td>\n",
       "      <td>36.0</td>\n",
       "    </tr>\n",
       "    <tr>\n",
       "      <th>37</th>\n",
       "      <td>2017-05-20 00:12:00</td>\n",
       "      <td>b</td>\n",
       "      <td>37.0</td>\n",
       "    </tr>\n",
       "    <tr>\n",
       "      <th>38</th>\n",
       "      <td>2017-05-20 00:12:00</td>\n",
       "      <td>c</td>\n",
       "      <td>38.0</td>\n",
       "    </tr>\n",
       "    <tr>\n",
       "      <th>39</th>\n",
       "      <td>2017-05-20 00:13:00</td>\n",
       "      <td>a</td>\n",
       "      <td>39.0</td>\n",
       "    </tr>\n",
       "    <tr>\n",
       "      <th>40</th>\n",
       "      <td>2017-05-20 00:13:00</td>\n",
       "      <td>b</td>\n",
       "      <td>40.0</td>\n",
       "    </tr>\n",
       "    <tr>\n",
       "      <th>41</th>\n",
       "      <td>2017-05-20 00:13:00</td>\n",
       "      <td>c</td>\n",
       "      <td>41.0</td>\n",
       "    </tr>\n",
       "    <tr>\n",
       "      <th>42</th>\n",
       "      <td>2017-05-20 00:14:00</td>\n",
       "      <td>a</td>\n",
       "      <td>42.0</td>\n",
       "    </tr>\n",
       "    <tr>\n",
       "      <th>43</th>\n",
       "      <td>2017-05-20 00:14:00</td>\n",
       "      <td>b</td>\n",
       "      <td>43.0</td>\n",
       "    </tr>\n",
       "    <tr>\n",
       "      <th>44</th>\n",
       "      <td>2017-05-20 00:14:00</td>\n",
       "      <td>c</td>\n",
       "      <td>44.0</td>\n",
       "    </tr>\n",
       "  </tbody>\n",
       "</table>\n",
       "</div>"
      ],
      "text/plain": [
       "                  time key  value\n",
       "0  2017-05-20 00:00:00   a    0.0\n",
       "1  2017-05-20 00:00:00   b    1.0\n",
       "2  2017-05-20 00:00:00   c    2.0\n",
       "3  2017-05-20 00:01:00   a    3.0\n",
       "4  2017-05-20 00:01:00   b    4.0\n",
       "5  2017-05-20 00:01:00   c    5.0\n",
       "6  2017-05-20 00:02:00   a    6.0\n",
       "7  2017-05-20 00:02:00   b    7.0\n",
       "8  2017-05-20 00:02:00   c    8.0\n",
       "9  2017-05-20 00:03:00   a    9.0\n",
       "10 2017-05-20 00:03:00   b   10.0\n",
       "11 2017-05-20 00:03:00   c   11.0\n",
       "12 2017-05-20 00:04:00   a   12.0\n",
       "13 2017-05-20 00:04:00   b   13.0\n",
       "14 2017-05-20 00:04:00   c   14.0\n",
       "15 2017-05-20 00:05:00   a   15.0\n",
       "16 2017-05-20 00:05:00   b   16.0\n",
       "17 2017-05-20 00:05:00   c   17.0\n",
       "18 2017-05-20 00:06:00   a   18.0\n",
       "19 2017-05-20 00:06:00   b   19.0\n",
       "20 2017-05-20 00:06:00   c   20.0\n",
       "21 2017-05-20 00:07:00   a   21.0\n",
       "22 2017-05-20 00:07:00   b   22.0\n",
       "23 2017-05-20 00:07:00   c   23.0\n",
       "24 2017-05-20 00:08:00   a   24.0\n",
       "25 2017-05-20 00:08:00   b   25.0\n",
       "26 2017-05-20 00:08:00   c   26.0\n",
       "27 2017-05-20 00:09:00   a   27.0\n",
       "28 2017-05-20 00:09:00   b   28.0\n",
       "29 2017-05-20 00:09:00   c   29.0\n",
       "30 2017-05-20 00:10:00   a   30.0\n",
       "31 2017-05-20 00:10:00   b   31.0\n",
       "32 2017-05-20 00:10:00   c   32.0\n",
       "33 2017-05-20 00:11:00   a   33.0\n",
       "34 2017-05-20 00:11:00   b   34.0\n",
       "35 2017-05-20 00:11:00   c   35.0\n",
       "36 2017-05-20 00:12:00   a   36.0\n",
       "37 2017-05-20 00:12:00   b   37.0\n",
       "38 2017-05-20 00:12:00   c   38.0\n",
       "39 2017-05-20 00:13:00   a   39.0\n",
       "40 2017-05-20 00:13:00   b   40.0\n",
       "41 2017-05-20 00:13:00   c   41.0\n",
       "42 2017-05-20 00:14:00   a   42.0\n",
       "43 2017-05-20 00:14:00   b   43.0\n",
       "44 2017-05-20 00:14:00   c   44.0"
      ]
     },
     "execution_count": 89,
     "metadata": {},
     "output_type": "execute_result"
    }
   ],
   "source": [
    "df2"
   ]
  },
  {
   "cell_type": "code",
   "execution_count": 105,
   "metadata": {
    "collapsed": true,
    "jupyter": {
     "outputs_hidden": true
    }
   },
   "outputs": [
    {
     "ename": "AttributeError",
     "evalue": "module 'pandas' has no attribute 'TimeGrouper'",
     "output_type": "error",
     "traceback": [
      "\u001b[1;31m---------------------------------------------------------------------------\u001b[0m",
      "\u001b[1;31mAttributeError\u001b[0m                            Traceback (most recent call last)",
      "\u001b[1;32m<ipython-input-105-5cac671d75a8>\u001b[0m in \u001b[0;36m<module>\u001b[1;34m\u001b[0m\n\u001b[0;32m      1\u001b[0m \u001b[1;31m# To do the same resampling for each value of 'key', we introduce the pandas.TimeGrouper object:\u001b[0m\u001b[1;33m\u001b[0m\u001b[1;33m\u001b[0m\u001b[1;33m\u001b[0m\u001b[0m\n\u001b[0;32m      2\u001b[0m \u001b[1;33m\u001b[0m\u001b[0m\n\u001b[1;32m----> 3\u001b[1;33m \u001b[0mtime_key\u001b[0m \u001b[1;33m=\u001b[0m \u001b[0mpd\u001b[0m\u001b[1;33m.\u001b[0m\u001b[0mTimeGrouper\u001b[0m\u001b[1;33m(\u001b[0m\u001b[1;34m'5min'\u001b[0m\u001b[1;33m)\u001b[0m\u001b[1;33m\u001b[0m\u001b[1;33m\u001b[0m\u001b[0m\n\u001b[0m",
      "\u001b[1;32m~\\anaconda3\\Anaconda3-2020\\lib\\site-packages\\pandas\\__init__.py\u001b[0m in \u001b[0;36m__getattr__\u001b[1;34m(name)\u001b[0m\n\u001b[0;32m    260\u001b[0m             \u001b[1;32mreturn\u001b[0m \u001b[0m_SparseArray\u001b[0m\u001b[1;33m\u001b[0m\u001b[1;33m\u001b[0m\u001b[0m\n\u001b[0;32m    261\u001b[0m \u001b[1;33m\u001b[0m\u001b[0m\n\u001b[1;32m--> 262\u001b[1;33m         \u001b[1;32mraise\u001b[0m \u001b[0mAttributeError\u001b[0m\u001b[1;33m(\u001b[0m\u001b[1;34mf\"module 'pandas' has no attribute '{name}'\"\u001b[0m\u001b[1;33m)\u001b[0m\u001b[1;33m\u001b[0m\u001b[1;33m\u001b[0m\u001b[0m\n\u001b[0m\u001b[0;32m    263\u001b[0m \u001b[1;33m\u001b[0m\u001b[0m\n\u001b[0;32m    264\u001b[0m \u001b[1;33m\u001b[0m\u001b[0m\n",
      "\u001b[1;31mAttributeError\u001b[0m: module 'pandas' has no attribute 'TimeGrouper'"
     ]
    }
   ],
   "source": [
    "# To do the same resampling for each value of 'key', we introduce the pandas.TimeGrouper object:\n",
    "\n",
    "time_key = pd.TimeGrouper('5min')"
   ]
  },
  {
   "cell_type": "code",
   "execution_count": 106,
   "metadata": {
    "collapsed": true,
    "jupyter": {
     "outputs_hidden": true
    }
   },
   "outputs": [
    {
     "ename": "NameError",
     "evalue": "name 'time_key' is not defined",
     "output_type": "error",
     "traceback": [
      "\u001b[1;31m---------------------------------------------------------------------------\u001b[0m",
      "\u001b[1;31mNameError\u001b[0m                                 Traceback (most recent call last)",
      "\u001b[1;32m<ipython-input-106-3e00b757a79d>\u001b[0m in \u001b[0;36m<module>\u001b[1;34m\u001b[0m\n\u001b[0;32m      1\u001b[0m \u001b[1;31m# We can then set the time index, group by 'key' and time_key, and aggregate:\u001b[0m\u001b[1;33m\u001b[0m\u001b[1;33m\u001b[0m\u001b[1;33m\u001b[0m\u001b[0m\n\u001b[0;32m      2\u001b[0m \u001b[1;33m\u001b[0m\u001b[0m\n\u001b[1;32m----> 3\u001b[1;33m \u001b[0mresampled\u001b[0m \u001b[1;33m=\u001b[0m \u001b[1;33m(\u001b[0m\u001b[0mdf2\u001b[0m\u001b[1;33m.\u001b[0m\u001b[0mset_index\u001b[0m\u001b[1;33m(\u001b[0m\u001b[1;34m'time'\u001b[0m\u001b[1;33m)\u001b[0m\u001b[1;33m.\u001b[0m\u001b[0mgroupby\u001b[0m\u001b[1;33m(\u001b[0m\u001b[1;33m[\u001b[0m\u001b[1;34m'key'\u001b[0m\u001b[1;33m,\u001b[0m \u001b[0mtime_key\u001b[0m\u001b[1;33m]\u001b[0m\u001b[1;33m)\u001b[0m\u001b[1;33m.\u001b[0m\u001b[0msum\u001b[0m\u001b[1;33m(\u001b[0m\u001b[1;33m)\u001b[0m\u001b[1;33m)\u001b[0m\u001b[1;33m\u001b[0m\u001b[1;33m\u001b[0m\u001b[0m\n\u001b[0m\u001b[0;32m      4\u001b[0m \u001b[0mresampled\u001b[0m\u001b[1;33m\u001b[0m\u001b[1;33m\u001b[0m\u001b[0m\n",
      "\u001b[1;31mNameError\u001b[0m: name 'time_key' is not defined"
     ]
    }
   ],
   "source": [
    "# We can then set the time index, group by 'key' and time_key, and aggregate:\n",
    "\n",
    "resampled = (df2.set_index('time').groupby(['key', time_key]).sum())\n",
    "resampled"
   ]
  },
  {
   "cell_type": "code",
   "execution_count": 107,
   "metadata": {
    "collapsed": true,
    "jupyter": {
     "outputs_hidden": true
    }
   },
   "outputs": [
    {
     "ename": "NameError",
     "evalue": "name 'resampled' is not defined",
     "output_type": "error",
     "traceback": [
      "\u001b[1;31m---------------------------------------------------------------------------\u001b[0m",
      "\u001b[1;31mNameError\u001b[0m                                 Traceback (most recent call last)",
      "\u001b[1;32m<ipython-input-107-8b23ed8a5956>\u001b[0m in \u001b[0;36m<module>\u001b[1;34m\u001b[0m\n\u001b[1;32m----> 1\u001b[1;33m \u001b[0mresampled\u001b[0m\u001b[1;33m.\u001b[0m\u001b[0mreset_index\u001b[0m\u001b[1;33m(\u001b[0m\u001b[1;33m)\u001b[0m\u001b[1;33m\u001b[0m\u001b[1;33m\u001b[0m\u001b[0m\n\u001b[0m",
      "\u001b[1;31mNameError\u001b[0m: name 'resampled' is not defined"
     ]
    }
   ],
   "source": [
    "resampled.reset_index()"
   ]
  },
  {
   "cell_type": "code",
   "execution_count": null,
   "metadata": {},
   "outputs": [],
   "source": [
    "# Techniques for Method Chaining\n",
    "\n",
    "# When applying a sequence of transformations to a dataset, you may find yourself creating numerous \n",
    "    # temporary variables that are never used in your analysis. \n",
    "\n",
    "# Consider this example, for instance:\n",
    "    \n",
    "df = load_data()\n",
    "df2 = df[df['col2'] < 0]\n",
    "df2['col1_demeaned'] = df2['col1'] - df2['col1'].mean()\n",
    "result = df2.groupby('key').col1_demeaned.std()"
   ]
  },
  {
   "cell_type": "code",
   "execution_count": null,
   "metadata": {},
   "outputs": [],
   "source": [
    "# While we’re not using any real data above, the example highlights some new methods.\n",
    "    # First, the DataFrame.assign method is a functional alternative to column assignments of \n",
    "    # the form df[k] = v. \n",
    "    # Rather than modifying the object in-place, it returns a new DataFrame with the indicated modifications.\n",
    "    # So these statements are equivalent:\n",
    "\n",
    "# Usual non-functional way\n",
    "df2 = df.copy()\n",
    "df2['k'] = v\n",
    "\n",
    "# Functional assign way\n",
    "df2 = df.assign(k=v)"
   ]
  },
  {
   "cell_type": "code",
   "execution_count": null,
   "metadata": {},
   "outputs": [],
   "source": [
    "# Assigning in-place may execute faster than using assign, but assign enables easier method chaining:\n",
    "\n",
    "result = df2.assign(col1_demeaned=df2.col1 - df2.col2.mean()).groupby('key').col1_demeaned.std()"
   ]
  },
  {
   "cell_type": "code",
   "execution_count": null,
   "metadata": {},
   "outputs": [],
   "source": [
    "# One thing to keep in mind when doing method chaining is that you may need to refer to temporary objects.\n",
    "    # In the preceding example, we cannot refer to the result of load_data until it has been assigned\n",
    "    # # to the temporary variable df. \n",
    "    # To help with this, assign and many other pandas functions accept function-like arguments,\n",
    "    # also known as callables.\n",
    "\n",
    "# To show callables in action, consider a fragment of the example from before:\n",
    "\n",
    "    \n",
    "df = load_data()\n",
    "df2 = df[df['col2'] < 0]"
   ]
  },
  {
   "cell_type": "code",
   "execution_count": null,
   "metadata": {},
   "outputs": [],
   "source": [
    "# This can be rewritten as:\n",
    "    \n",
    "df = load_data()[lambda x: x['col2'] < 0]"
   ]
  },
  {
   "cell_type": "code",
   "execution_count": null,
   "metadata": {},
   "outputs": [],
   "source": [
    "# Above, the result of load_data is not assigned to a variable,\n",
    "    # so the function passed into [] is then bound to the object at that stage of the method chain.\n",
    "\n",
    "# We can continue, then, and write the entire sequence as a single chained expression:\n",
    "\n",
    "result = load_data()[lambda x: x.col2 < 0].\n",
    "          assign(col1_demeaned=lambda x: x.col1 - x.col1.mean()).\n",
    "          groupby('key').col1_demeaned.std()"
   ]
  },
  {
   "cell_type": "code",
   "execution_count": null,
   "metadata": {},
   "outputs": [],
   "source": [
    "# Whether you prefer to write code in this style is a matter of taste, and splitting up the\n",
    "    # expression into multiple steps may make your code more readable."
   ]
  },
  {
   "cell_type": "code",
   "execution_count": null,
   "metadata": {},
   "outputs": [],
   "source": [
    "# The pipe Method\n",
    "\n",
    "# You can accomplish a lot with built-in pandas functions and the approaches to \n",
    "    # method chaining with callables that we just looked at.\n",
    "    # However, sometimes you need to use your own functions or functions from third-party libraries. \n",
    "    # This is where the pipe method comes in.\n",
    "\n",
    "# Consider a sequence of function calls:\n",
    "\n",
    "a = f(df, arg1=v1)\n",
    "b = g(a, v2, arg3=v3)\n",
    "c = h(b, arg4=v4)"
   ]
  },
  {
   "cell_type": "code",
   "execution_count": null,
   "metadata": {},
   "outputs": [],
   "source": [
    "# When using functions that accept and return Series or DataFrame objects,\n",
    "    # you can rewrite this using calls to pipe:\n",
    "\n",
    "result = df.pipe(f, arg1=v1).pipe(g, v2, arg3=v3).pipe(h, arg4=v4)"
   ]
  },
  {
   "cell_type": "code",
   "execution_count": null,
   "metadata": {},
   "outputs": [],
   "source": [
    "# The statement f(df) and df.pipe(f) are equivalent, but pipe makes chained invocation easier.\n",
    "\n",
    "# A potentially useful pattern for pipe is to generalize sequences of operations into reusable functions.\n",
    "    # As an example, let’s consider substracting group means from a column:\n",
    "\n",
    "g = df.groupby(['key1', 'key2'])\n",
    "df['col1'] = df['col1'] - g.transform('mean')"
   ]
  },
  {
   "cell_type": "code",
   "execution_count": null,
   "metadata": {},
   "outputs": [],
   "source": [
    "# Suppose that you wanted to be able to demean more than one column and easily change the group keys.\n",
    "    # Additionally, you might want to perform this transformation in a method chain.\n",
    "\n",
    "# Here is an example implementation:\n",
    "\n",
    "def group_demean(df, by, cols):\n",
    "    result = df.copy()\n",
    "    g = df.groupby(by)\n",
    "    for c in cols:\n",
    "        result[c] = df[c] - g[c].transform('mean')\n",
    "    return result"
   ]
  },
  {
   "cell_type": "code",
   "execution_count": null,
   "metadata": {},
   "outputs": [],
   "source": [
    "# Then it is possible to write:\n",
    "\n",
    "result = df[df.col1 < 0].pipe(group_demean, ['key1', 'key2'], ['col1'])"
   ]
  },
  {
   "cell_type": "markdown",
   "metadata": {},
   "source": [
    "# The End"
   ]
  }
 ],
 "metadata": {
  "kernelspec": {
   "display_name": "Python 3",
   "language": "python",
   "name": "python3"
  },
  "language_info": {
   "codemirror_mode": {
    "name": "ipython",
    "version": 3
   },
   "file_extension": ".py",
   "mimetype": "text/x-python",
   "name": "python",
   "nbconvert_exporter": "python",
   "pygments_lexer": "ipython3",
   "version": "3.7.6"
  }
 },
 "nbformat": 4,
 "nbformat_minor": 4
}
